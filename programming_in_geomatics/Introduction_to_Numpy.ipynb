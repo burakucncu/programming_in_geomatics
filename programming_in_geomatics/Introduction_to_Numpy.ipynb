{
  "cells": [
    {
      "cell_type": "markdown",
      "metadata": {
        "id": "Kp3XsdRHWSMm"
      },
      "source": [
        "# Week 1: Introduction to NumPy"
      ]
    },
    {
      "cell_type": "markdown",
      "metadata": {
        "toc": true,
        "id": "J9Yi0F6FWSMn"
      },
      "source": [
        "<h2>Chapter Outline<span class=\"tocSkip\"></span></h2>\n",
        "<hr>\n",
        "<div class=\"toc\"><ul class=\"toc-item\"><li><span><a href=\"#1.-Introduction-to-NumPy\" data-toc-modified-id=\"1.-Introduction-to-NumPy-1\">1. Introduction to NumPy</a></span></li><li><span><a href=\"#2.-NumPy-Arrays\" data-toc-modified-id=\"2.-NumPy-Arrays-2\">2. NumPy Arrays</a></span></li><li><span><a href=\"#3.-Array-Operations-and-Broadcasting\" data-toc-modified-id=\"3.-Array-Operations-and-Broadcasting-3\">3. Array Operations and Broadcasting</a></span></li><li><span><a href=\"#4.-Indexing-and-slicing\" data-toc-modified-id=\"4.-Indexing-and-slicing-4\">4. Indexing and slicing</a></span></li><li><span><a href=\"#5.-More-Useful-NumPy-Functions\" data-toc-modified-id=\"5.-More-Useful-NumPy-Functions-5\">5. More Useful NumPy Functions</a></span></li></ul></div>"
      ]
    },
    {
      "cell_type": "markdown",
      "metadata": {
        "id": "rZWI4jg_WSMo"
      },
      "source": [
        "## Chapter Learning Objectives\n",
        "<hr>"
      ]
    },
    {
      "cell_type": "markdown",
      "metadata": {
        "id": "zfbe0CgMWSMo"
      },
      "source": [
        "- Use NumPy to create arrays with built-in functions inlcuding `np.array()`, `np.arange()`, `np.linspace()` and `np.full()`, `np.zeros()`, `np.ones()`\n",
        "- Be able to access values from a NumPy array by numeric indexing and slicing and boolean indexing\n",
        "- Perform mathematical operations on and with arrays.\n",
        "- Explain what broadcasting is and how to use it.\n",
        "- Reshape arrays by adding/removing/reshaping axes with `.reshape()`, `np.newaxis()`, `.ravel()`, `.flatten()`\n",
        "- Understand how to use built-in NumPy functions like `np.sum()`, `np.mean()`, `np.log()` as stand alone functions or as methods of numpy arrays (when available)"
      ]
    },
    {
      "cell_type": "markdown",
      "metadata": {
        "id": "cJ7ze6GAWSMo"
      },
      "source": [
        "## 1. Introduction to NumPy\n",
        "<hr>"
      ]
    },
    {
      "cell_type": "markdown",
      "metadata": {
        "id": "9GVocg2FWSMo"
      },
      "source": [
        "![](https://www.tomasbeuzen.com/python-programming-for-data-science/_images/numpy.png)"
      ]
    },
    {
      "cell_type": "markdown",
      "metadata": {
        "id": "jCKb9-nhWSMo"
      },
      "source": [
        "NumPy stands for \"Numerical Python\" and it is the standard Python library used for working with arrays (i.e., vectors & matrices), linear algerba, and other numerical computations. NumPy is written in C, making NumPy arrays faster and more memory efficient than Python lists or arrays.\n",
        "NumPy can be installed using `conda` (if not already):\n",
        "\n",
        "```\n",
        "conda install numpy\n",
        "```"
      ]
    },
    {
      "cell_type": "markdown",
      "metadata": {
        "id": "bw2BIdcOWSMp"
      },
      "source": [
        "## 2. NumPy Arrays\n",
        "<hr>"
      ]
    },
    {
      "cell_type": "markdown",
      "metadata": {
        "id": "ZmZWfAxVWSMp"
      },
      "source": [
        "### What are Arrays?"
      ]
    },
    {
      "cell_type": "markdown",
      "metadata": {
        "id": "JE0fperPWSMp"
      },
      "source": [
        "Arrays are \"n-dimensional\" data structures that can contain all the basic Python data types, e.g., floats, integers, strings etc, but work best with numeric data. NumPy arrays (\"ndarrays\") are homogenous, which means that items in the array should be of the same type. ndarrays are also compatible with numpy's vast collection of in-built functions!\n",
        "\n",
        "![](https://www.tomasbeuzen.com/python-programming-for-data-science/_images/numpy_arrays.png)"
      ]
    },
    {
      "cell_type": "markdown",
      "metadata": {
        "id": "yyeNf8E9WSMp"
      },
      "source": [
        "Usually we import numpy with the alias `np` (to avoid having to type out n-u-m-p-y every time we want to use it):"
      ]
    },
    {
      "cell_type": "code",
      "execution_count": null,
      "metadata": {
        "id": "yeSddt34WSMp"
      },
      "outputs": [],
      "source": [
        "import numpy as np"
      ]
    },
    {
      "cell_type": "markdown",
      "metadata": {
        "id": "vHuZm5d-WSMq"
      },
      "source": [
        "A numpy array is sort of like a list:"
      ]
    },
    {
      "cell_type": "code",
      "execution_count": null,
      "metadata": {
        "id": "3NIzSzJzWSMq",
        "outputId": "c9e279b7-ab88-46ba-adf1-316dbcacb5f6"
      },
      "outputs": [
        {
          "data": {
            "text/plain": [
              "[1, 2, 3, 4, 5]"
            ]
          },
          "execution_count": 2,
          "metadata": {},
          "output_type": "execute_result"
        }
      ],
      "source": [
        "my_list = [1, 2, 3, 4, 5]\n",
        "my_list"
      ]
    },
    {
      "cell_type": "code",
      "execution_count": null,
      "metadata": {
        "id": "9c1cXVGhWSMq",
        "outputId": "2c293603-e0ff-429f-8082-1ac96b301d43"
      },
      "outputs": [
        {
          "data": {
            "text/plain": [
              "array([1, 2, 3, 4, 5])"
            ]
          },
          "execution_count": 3,
          "metadata": {},
          "output_type": "execute_result"
        }
      ],
      "source": [
        "my_array = np.array([1, 2, 3, 4, 5])\n",
        "my_array"
      ]
    },
    {
      "cell_type": "markdown",
      "metadata": {
        "id": "hjKtgB5HWSMr"
      },
      "source": [
        "But it has the type `ndarray`:"
      ]
    },
    {
      "cell_type": "code",
      "execution_count": null,
      "metadata": {
        "id": "zya-G5bYWSMr",
        "outputId": "da61ae7f-5776-41bd-f625-8821947f33e3"
      },
      "outputs": [
        {
          "data": {
            "text/plain": [
              "numpy.ndarray"
            ]
          },
          "execution_count": 4,
          "metadata": {},
          "output_type": "execute_result"
        }
      ],
      "source": [
        "type(my_array)"
      ]
    },
    {
      "cell_type": "markdown",
      "metadata": {
        "id": "Bsnoi9owWSMr"
      },
      "source": [
        "Unlike a list, arrays can only hold a single type (usually numbers):"
      ]
    },
    {
      "cell_type": "code",
      "execution_count": null,
      "metadata": {
        "id": "C-SmMM46WSMr",
        "outputId": "35510424-4206-4853-b81a-cdc03f7aa8bb"
      },
      "outputs": [
        {
          "data": {
            "text/plain": [
              "[1, 'hi']"
            ]
          },
          "execution_count": 5,
          "metadata": {},
          "output_type": "execute_result"
        }
      ],
      "source": [
        "my_list = [1, \"hi\"]\n",
        "my_list"
      ]
    },
    {
      "cell_type": "code",
      "execution_count": null,
      "metadata": {
        "id": "gIHcKLINWSMr",
        "outputId": "31048fdb-e2fb-4bb2-8764-35f433228a7a"
      },
      "outputs": [
        {
          "data": {
            "text/plain": [
              "array(['1', 'hi'], dtype='<U21')"
            ]
          },
          "execution_count": 6,
          "metadata": {},
          "output_type": "execute_result"
        }
      ],
      "source": [
        "my_array = np.array((1, \"hi\"))\n",
        "my_array"
      ]
    },
    {
      "cell_type": "markdown",
      "metadata": {
        "id": "Ni0FJk01WSMr"
      },
      "source": [
        "Above: NumPy converted the integer `1` into the string `'1'`!"
      ]
    },
    {
      "cell_type": "markdown",
      "metadata": {
        "id": "BQO1myAIWSMr"
      },
      "source": [
        "### Creating arrays\n",
        "\n",
        "ndarrays are typically created using two main methods:\n",
        "1. From existing data (usually lists or tuples) using `np.array()`, like we saw above; or,\n",
        "2. Using built-in functions such as `np.arange()`, `np.linspace()`, `np.zeros()`, etc."
      ]
    },
    {
      "cell_type": "code",
      "execution_count": null,
      "metadata": {
        "id": "zBILOo3aWSMr",
        "outputId": "62991eef-d493-4080-9368-901abe86d757"
      },
      "outputs": [
        {
          "data": {
            "text/plain": [
              "array([1, 2, 3])"
            ]
          },
          "execution_count": 7,
          "metadata": {},
          "output_type": "execute_result"
        }
      ],
      "source": [
        "my_list = [1, 2, 3]\n",
        "np.array(my_list)"
      ]
    },
    {
      "cell_type": "markdown",
      "metadata": {
        "id": "qv-AiS10WSMs"
      },
      "source": [
        "Just like you can have \"multi-dimensional lists\" (by nesting lists in lists), you can have multi-dimensional arrays (indicated by double square brackets `[[ ]]`):"
      ]
    },
    {
      "cell_type": "code",
      "execution_count": null,
      "metadata": {
        "id": "KCZwd4guWSMs",
        "outputId": "22b04adb-dfe0-465c-fd41-caba3a3ed5ab"
      },
      "outputs": [
        {
          "data": {
            "text/plain": [
              "[[1, 2], [3, 4], [5, 6]]"
            ]
          },
          "execution_count": 8,
          "metadata": {},
          "output_type": "execute_result"
        }
      ],
      "source": [
        "list_2d = [[1, 2], [3, 4], [5, 6]]\n",
        "list_2d"
      ]
    },
    {
      "cell_type": "code",
      "execution_count": null,
      "metadata": {
        "id": "VychB-0gWSMs",
        "outputId": "73b98e59-79d1-4dca-e53c-7dfe63ce50d3"
      },
      "outputs": [
        {
          "data": {
            "text/plain": [
              "array([[1, 2],\n",
              "       [3, 4],\n",
              "       [5, 6]])"
            ]
          },
          "execution_count": 9,
          "metadata": {},
          "output_type": "execute_result"
        }
      ],
      "source": [
        "array_2d = np.array(list_2d)\n",
        "array_2d"
      ]
    },
    {
      "cell_type": "markdown",
      "metadata": {
        "id": "Oc8D_TV4WSMs"
      },
      "source": [
        "You'll probably use the built-in numpy array creators quite often. Here are some common ones (hint - don't forget to check the docstrings for help with these functions, if you're in Jupyter, remeber the `shift + tab` shortcut):"
      ]
    },
    {
      "cell_type": "code",
      "execution_count": null,
      "metadata": {
        "id": "lmbYMRiRWSMs",
        "outputId": "6e2e9959-f993-45ef-94b6-e286b9592a84"
      },
      "outputs": [
        {
          "data": {
            "text/plain": [
              "array([1, 2, 3, 4])"
            ]
          },
          "execution_count": 10,
          "metadata": {},
          "output_type": "execute_result"
        }
      ],
      "source": [
        "np.arange(1, 5)  # from 1 inclusive to 5 exclusive"
      ]
    },
    {
      "cell_type": "code",
      "execution_count": null,
      "metadata": {
        "id": "-FZbby2OWSMs",
        "outputId": "81ae9891-ddd8-4d1a-9dfb-7dab796412d3"
      },
      "outputs": [
        {
          "data": {
            "text/plain": [
              "array([ 0,  2,  4,  6,  8, 10])"
            ]
          },
          "execution_count": 11,
          "metadata": {},
          "output_type": "execute_result"
        }
      ],
      "source": [
        "np.arange(0, 11, 2)  # step by 2 from 1 to 11"
      ]
    },
    {
      "cell_type": "code",
      "execution_count": null,
      "metadata": {
        "id": "_T3G_ueZWSMt",
        "outputId": "6576d13d-963b-4fad-c4e6-f3bf3f562179"
      },
      "outputs": [
        {
          "data": {
            "text/plain": [
              "array([ 0. ,  2.5,  5. ,  7.5, 10. ])"
            ]
          },
          "execution_count": 12,
          "metadata": {},
          "output_type": "execute_result"
        }
      ],
      "source": [
        "np.linspace(0, 10, 5)  # 5 equally spaced points between 0 and 10"
      ]
    },
    {
      "cell_type": "code",
      "execution_count": null,
      "metadata": {
        "id": "wjKQQsw2WSMt",
        "outputId": "01fa4e50-88da-45b5-d3b6-9c713e23a88c"
      },
      "outputs": [
        {
          "data": {
            "text/plain": [
              "array([[1., 1.],\n",
              "       [1., 1.]])"
            ]
          },
          "execution_count": 13,
          "metadata": {},
          "output_type": "execute_result"
        }
      ],
      "source": [
        "np.ones((2, 2))  # an array of ones with size 2 x 2"
      ]
    },
    {
      "cell_type": "code",
      "execution_count": null,
      "metadata": {
        "id": "lY-rgARWWSMt",
        "outputId": "8457e0f5-b607-4b4e-c4c4-3e9b55e3d3f2"
      },
      "outputs": [
        {
          "data": {
            "text/plain": [
              "array([[0., 0., 0.],\n",
              "       [0., 0., 0.]])"
            ]
          },
          "execution_count": 14,
          "metadata": {},
          "output_type": "execute_result"
        }
      ],
      "source": [
        "np.zeros((2, 3))  # an array of zeros with size 2 x 3"
      ]
    },
    {
      "cell_type": "code",
      "execution_count": null,
      "metadata": {
        "id": "yfWddCe8WSMt",
        "outputId": "cc364e56-b318-483d-a1cb-c9dff6c74aec"
      },
      "outputs": [
        {
          "data": {
            "text/plain": [
              "array([[3.14, 3.14, 3.14],\n",
              "       [3.14, 3.14, 3.14],\n",
              "       [3.14, 3.14, 3.14]])"
            ]
          },
          "execution_count": 15,
          "metadata": {},
          "output_type": "execute_result"
        }
      ],
      "source": [
        "np.full((3, 3), 3.14)  # an array of the number 3.14 with size 3 x 3"
      ]
    },
    {
      "cell_type": "code",
      "execution_count": null,
      "metadata": {
        "id": "6cXhNSksWSMt",
        "outputId": "7394c406-a451-4d58-a8ee-7e0d390382b9"
      },
      "outputs": [
        {
          "data": {
            "text/plain": [
              "array([[[3.14, 3.14, 3.14],\n",
              "        [3.14, 3.14, 3.14],\n",
              "        [3.14, 3.14, 3.14]],\n",
              "\n",
              "       [[3.14, 3.14, 3.14],\n",
              "        [3.14, 3.14, 3.14],\n",
              "        [3.14, 3.14, 3.14]],\n",
              "\n",
              "       [[3.14, 3.14, 3.14],\n",
              "        [3.14, 3.14, 3.14],\n",
              "        [3.14, 3.14, 3.14]]])"
            ]
          },
          "execution_count": 16,
          "metadata": {},
          "output_type": "execute_result"
        }
      ],
      "source": [
        "np.full((3, 3, 3), 3.14)  # an array of the number 3.14 with size 3 x 3 x 3"
      ]
    },
    {
      "cell_type": "code",
      "execution_count": null,
      "metadata": {
        "id": "n4D_r5tWWSMt",
        "outputId": "cfd7aa99-0443-413f-bc24-750d91f4e12f"
      },
      "outputs": [
        {
          "data": {
            "text/plain": [
              "array([[0.99572773, 0.81999212],\n",
              "       [0.97339833, 0.10561435],\n",
              "       [0.85923126, 0.40018929],\n",
              "       [0.97506147, 0.78313652],\n",
              "       [0.99229906, 0.14525197]])"
            ]
          },
          "execution_count": 17,
          "metadata": {},
          "output_type": "execute_result"
        }
      ],
      "source": [
        "np.random.rand(5, 2)  # random numbers uniformly distributed from 0 to 1 with size 5 x 2"
      ]
    },
    {
      "cell_type": "markdown",
      "metadata": {
        "id": "X1faDxs5WSMt"
      },
      "source": [
        "There are many useful attributes/methods that can be called off numpy arrays:"
      ]
    },
    {
      "cell_type": "code",
      "execution_count": null,
      "metadata": {
        "id": "MLF8rHl0WSMt",
        "outputId": "be92db28-6ce6-448e-87b4-f4c5c46f34c3"
      },
      "outputs": [
        {
          "name": "stdout",
          "output_type": "stream",
          "text": [
            "['T', '__abs__', '__add__', '__and__', '__array__', '__array_finalize__', '__array_function__', '__array_interface__', '__array_prepare__', '__array_priority__', '__array_struct__', '__array_ufunc__', '__array_wrap__', '__bool__', '__class__', '__complex__', '__contains__', '__copy__', '__deepcopy__', '__delattr__', '__delitem__', '__dir__', '__divmod__', '__doc__', '__eq__', '__float__', '__floordiv__', '__format__', '__ge__', '__getattribute__', '__getitem__', '__gt__', '__hash__', '__iadd__', '__iand__', '__ifloordiv__', '__ilshift__', '__imatmul__', '__imod__', '__imul__', '__index__', '__init__', '__init_subclass__', '__int__', '__invert__', '__ior__', '__ipow__', '__irshift__', '__isub__', '__iter__', '__itruediv__', '__ixor__', '__le__', '__len__', '__lshift__', '__lt__', '__matmul__', '__mod__', '__mul__', '__ne__', '__neg__', '__new__', '__or__', '__pos__', '__pow__', '__radd__', '__rand__', '__rdivmod__', '__reduce__', '__reduce_ex__', '__repr__', '__rfloordiv__', '__rlshift__', '__rmatmul__', '__rmod__', '__rmul__', '__ror__', '__rpow__', '__rrshift__', '__rshift__', '__rsub__', '__rtruediv__', '__rxor__', '__setattr__', '__setitem__', '__setstate__', '__sizeof__', '__str__', '__sub__', '__subclasshook__', '__truediv__', '__xor__', 'all', 'any', 'argmax', 'argmin', 'argpartition', 'argsort', 'astype', 'base', 'byteswap', 'choose', 'clip', 'compress', 'conj', 'conjugate', 'copy', 'ctypes', 'cumprod', 'cumsum', 'data', 'diagonal', 'dot', 'dtype', 'dump', 'dumps', 'fill', 'flags', 'flat', 'flatten', 'getfield', 'imag', 'item', 'itemset', 'itemsize', 'max', 'mean', 'min', 'nbytes', 'ndim', 'newbyteorder', 'nonzero', 'partition', 'prod', 'ptp', 'put', 'ravel', 'real', 'repeat', 'reshape', 'resize', 'round', 'searchsorted', 'setfield', 'setflags', 'shape', 'size', 'sort', 'squeeze', 'std', 'strides', 'sum', 'swapaxes', 'take', 'tobytes', 'tofile', 'tolist', 'tostring', 'trace', 'transpose', 'var', 'view']\n"
          ]
        }
      ],
      "source": [
        "print(dir(np.ndarray))"
      ]
    },
    {
      "cell_type": "code",
      "execution_count": null,
      "metadata": {
        "id": "cJDSCEfTWSMu",
        "outputId": "33196213-8a7b-4314-b986-b06e8814a7b6"
      },
      "outputs": [
        {
          "data": {
            "text/plain": [
              "array([[0.0252237 , 0.3368265 ],\n",
              "       [0.57678161, 0.68709061],\n",
              "       [0.00721254, 0.61280414],\n",
              "       [0.65886063, 0.87372073],\n",
              "       [0.82815125, 0.47996047]])"
            ]
          },
          "execution_count": 19,
          "metadata": {},
          "output_type": "execute_result"
        }
      ],
      "source": [
        "x = np.random.rand(5, 2)\n",
        "x"
      ]
    },
    {
      "cell_type": "code",
      "execution_count": null,
      "metadata": {
        "id": "oHcujx9GWSMu",
        "outputId": "4a1861ac-fb16-4c35-cf77-cc6168d15275"
      },
      "outputs": [
        {
          "data": {
            "text/plain": [
              "array([[0.0252237 , 0.57678161, 0.00721254, 0.65886063, 0.82815125],\n",
              "       [0.3368265 , 0.68709061, 0.61280414, 0.87372073, 0.47996047]])"
            ]
          },
          "execution_count": 20,
          "metadata": {},
          "output_type": "execute_result"
        }
      ],
      "source": [
        "x.transpose()"
      ]
    },
    {
      "cell_type": "code",
      "execution_count": null,
      "metadata": {
        "id": "vS0eDF7VWSMw",
        "outputId": "2ba2c1d0-4569-4f5a-960c-f7118e48ec10"
      },
      "outputs": [
        {
          "data": {
            "text/plain": [
              "0.5086632185578763"
            ]
          },
          "execution_count": 21,
          "metadata": {},
          "output_type": "execute_result"
        }
      ],
      "source": [
        "x.mean()"
      ]
    },
    {
      "cell_type": "code",
      "execution_count": null,
      "metadata": {
        "id": "cFt2THhMWSMx",
        "outputId": "214b2d42-d008-4380-abd0-5c033978b5e6"
      },
      "outputs": [
        {
          "data": {
            "text/plain": [
              "array([[0, 0],\n",
              "       [0, 0],\n",
              "       [0, 0],\n",
              "       [0, 0],\n",
              "       [0, 0]])"
            ]
          },
          "execution_count": 22,
          "metadata": {},
          "output_type": "execute_result"
        }
      ],
      "source": [
        "x.astype(int)"
      ]
    },
    {
      "cell_type": "markdown",
      "metadata": {
        "id": "kpPflXF2WSMx"
      },
      "source": [
        "### Array Shapes"
      ]
    },
    {
      "cell_type": "markdown",
      "metadata": {
        "id": "BgXU8CqDWSMx"
      },
      "source": [
        "As you just saw above, arrays can be of any dimension, shape and size you desire. In fact, there are three main array attributes you need to know to work out the characteristics of an array:\n",
        "- `.ndim`: the number of dimensions of an array\n",
        "- `.shape`: the number of elements in each dimension (like calling `len()` on each dimension)\n",
        "- `.size`: the total number of elements in an array (i.e., the product of `.shape`)"
      ]
    },
    {
      "cell_type": "code",
      "execution_count": null,
      "metadata": {
        "id": "2mN_fkvQWSMx",
        "outputId": "97c03fa0-e913-4fae-b4b4-822a1351930b"
      },
      "outputs": [
        {
          "name": "stdout",
          "output_type": "stream",
          "text": [
            "Dimensions: 1\n",
            "     Shape: (3,)\n",
            "      Size: 3\n"
          ]
        }
      ],
      "source": [
        "array_1d = np.ones(3)\n",
        "print(f\"Dimensions: {array_1d.ndim}\")\n",
        "print(f\"     Shape: {array_1d.shape}\")\n",
        "print(f\"      Size: {array_1d.size}\")"
      ]
    },
    {
      "cell_type": "markdown",
      "metadata": {
        "id": "XqITj5bSWSMx"
      },
      "source": [
        "Let's turn that print action into a function and try out some other arrays:"
      ]
    },
    {
      "cell_type": "code",
      "execution_count": null,
      "metadata": {
        "id": "N8vjENGZWSMx"
      },
      "outputs": [],
      "source": [
        "def print_array(x):\n",
        "    print(f\"Dimensions: {x.ndim}\")\n",
        "    print(f\"     Shape: {x.shape}\")\n",
        "    print(f\"      Size: {x.size}\")\n",
        "    print(\"\")\n",
        "    print(x)"
      ]
    },
    {
      "cell_type": "code",
      "execution_count": null,
      "metadata": {
        "id": "up2iC0RDWSMy",
        "outputId": "ef15a4c7-5ae9-4c13-8133-82a180d6c52e"
      },
      "outputs": [
        {
          "name": "stdout",
          "output_type": "stream",
          "text": [
            "Dimensions: 2\n",
            "     Shape: (3, 2)\n",
            "      Size: 6\n",
            "\n",
            "[[1. 1.]\n",
            " [1. 1.]\n",
            " [1. 1.]]\n"
          ]
        }
      ],
      "source": [
        "array_2d = np.ones((3, 2))\n",
        "print_array(array_2d)"
      ]
    },
    {
      "cell_type": "code",
      "execution_count": null,
      "metadata": {
        "id": "Xxe5QqFMWSMy",
        "outputId": "fd719ca0-c4f6-4359-e93b-29fa86a8d353"
      },
      "outputs": [
        {
          "name": "stdout",
          "output_type": "stream",
          "text": [
            "Dimensions: 4\n",
            "     Shape: (1, 2, 3, 4)\n",
            "      Size: 24\n",
            "\n",
            "[[[[1. 1. 1. 1.]\n",
            "   [1. 1. 1. 1.]\n",
            "   [1. 1. 1. 1.]]\n",
            "\n",
            "  [[1. 1. 1. 1.]\n",
            "   [1. 1. 1. 1.]\n",
            "   [1. 1. 1. 1.]]]]\n"
          ]
        }
      ],
      "source": [
        "array_4d = np.ones((1, 2, 3, 4))\n",
        "print_array(array_4d)"
      ]
    },
    {
      "cell_type": "markdown",
      "metadata": {
        "id": "SuZsPmhRWSMy"
      },
      "source": [
        "After 3 dimensions, printing arrays starts getting pretty messy. As you can see above, the number of square brackets (`[ ]`) in the printed output indicate how many dimensions there are: for example, above, the output starts with 4 square brackets `[[[[` indicative of a 4D array."
      ]
    },
    {
      "cell_type": "markdown",
      "metadata": {
        "id": "r92s8h1HWSMy"
      },
      "source": [
        "### 1-d Arrays"
      ]
    },
    {
      "cell_type": "markdown",
      "metadata": {
        "id": "wioiq7J6WSMy"
      },
      "source": [
        "One of the most confusing things about numpy is 1-d arrays (vectors) can have 3 possible shapes!"
      ]
    },
    {
      "cell_type": "code",
      "execution_count": null,
      "metadata": {
        "id": "NZsP_ptFWSMy",
        "outputId": "bbc08042-1f91-4c64-a1c1-35823bb2dcbc"
      },
      "outputs": [
        {
          "name": "stdout",
          "output_type": "stream",
          "text": [
            "Dimensions: 1\n",
            "     Shape: (5,)\n",
            "      Size: 5\n",
            "\n",
            "[1. 1. 1. 1. 1.]\n"
          ]
        }
      ],
      "source": [
        "x = np.ones(5)\n",
        "print_array(x)"
      ]
    },
    {
      "cell_type": "code",
      "execution_count": null,
      "metadata": {
        "id": "jx9IhJScWSMy",
        "outputId": "64c326f6-e056-4c6c-f0c5-00ab18b75954"
      },
      "outputs": [
        {
          "name": "stdout",
          "output_type": "stream",
          "text": [
            "Dimensions: 2\n",
            "     Shape: (1, 5)\n",
            "      Size: 5\n",
            "\n",
            "[[1. 1. 1. 1. 1.]]\n"
          ]
        }
      ],
      "source": [
        "y = np.ones((1, 5))\n",
        "print_array(y)"
      ]
    },
    {
      "cell_type": "code",
      "execution_count": null,
      "metadata": {
        "id": "0cA4jdpbWSMy",
        "outputId": "46fe5d72-9435-4b02-9a3d-c3a6beaec5b3"
      },
      "outputs": [
        {
          "name": "stdout",
          "output_type": "stream",
          "text": [
            "Dimensions: 2\n",
            "     Shape: (5, 1)\n",
            "      Size: 5\n",
            "\n",
            "[[1.]\n",
            " [1.]\n",
            " [1.]\n",
            " [1.]\n",
            " [1.]]\n"
          ]
        }
      ],
      "source": [
        "z = np.ones((5, 1))\n",
        "print_array(z)"
      ]
    },
    {
      "cell_type": "markdown",
      "metadata": {
        "id": "K8T3zd_6WSMz"
      },
      "source": [
        "We can use `np.array_equal()` to determine if two arrays have the same shape and elements:"
      ]
    },
    {
      "cell_type": "code",
      "execution_count": null,
      "metadata": {
        "id": "Ba-pKq3dWSMz",
        "outputId": "f060a163-1321-4202-c809-99b0bedfc46e"
      },
      "outputs": [
        {
          "data": {
            "text/plain": [
              "True"
            ]
          },
          "execution_count": 30,
          "metadata": {},
          "output_type": "execute_result"
        }
      ],
      "source": [
        "np.array_equal(x, x)"
      ]
    },
    {
      "cell_type": "code",
      "execution_count": null,
      "metadata": {
        "id": "BCp_vGaXWSMz",
        "outputId": "033bda7c-93aa-4a60-d79e-479f23fb554d"
      },
      "outputs": [
        {
          "data": {
            "text/plain": [
              "False"
            ]
          },
          "execution_count": 31,
          "metadata": {},
          "output_type": "execute_result"
        }
      ],
      "source": [
        "np.array_equal(x, y)"
      ]
    },
    {
      "cell_type": "code",
      "execution_count": null,
      "metadata": {
        "id": "PapCc4j7WSMz",
        "outputId": "72e70b5e-efdd-4c41-a723-c873fc755e0d"
      },
      "outputs": [
        {
          "data": {
            "text/plain": [
              "False"
            ]
          },
          "execution_count": 32,
          "metadata": {},
          "output_type": "execute_result"
        }
      ],
      "source": [
        "np.array_equal(x, z)"
      ]
    },
    {
      "cell_type": "code",
      "execution_count": null,
      "metadata": {
        "id": "yg_PTkghWSMz",
        "outputId": "d832cb56-4b5d-46d2-c618-d6e667050864"
      },
      "outputs": [
        {
          "data": {
            "text/plain": [
              "False"
            ]
          },
          "execution_count": 33,
          "metadata": {},
          "output_type": "execute_result"
        }
      ],
      "source": [
        "np.array_equal(y, z)"
      ]
    },
    {
      "cell_type": "markdown",
      "metadata": {
        "id": "AxeMy_4NWSMz"
      },
      "source": [
        "The shape of your 1-d arrays can actually have big implications on your mathematical oeprations!"
      ]
    },
    {
      "cell_type": "code",
      "execution_count": null,
      "metadata": {
        "id": "oYY-Wr44WSMz",
        "outputId": "bb789133-c148-4277-a9a9-a5ef3da57ef5"
      },
      "outputs": [
        {
          "name": "stdout",
          "output_type": "stream",
          "text": [
            "x: [1. 1. 1. 1. 1.]\n",
            "y: [[1. 1. 1. 1. 1.]]\n",
            "z: [[1.]\n",
            " [1.]\n",
            " [1.]\n",
            " [1.]\n",
            " [1.]]\n"
          ]
        }
      ],
      "source": [
        "print(f\"x: {x}\")\n",
        "print(f\"y: {y}\")\n",
        "print(f\"z: {z}\")"
      ]
    },
    {
      "cell_type": "code",
      "execution_count": null,
      "metadata": {
        "id": "U_s0v5r4WSMz",
        "outputId": "18725e2c-d952-4d7c-fbf8-8d8b1f2d849f"
      },
      "outputs": [
        {
          "data": {
            "text/plain": [
              "array([[2., 2., 2., 2., 2.]])"
            ]
          },
          "execution_count": 35,
          "metadata": {},
          "output_type": "execute_result"
        }
      ],
      "source": [
        "x + y  # makes sense"
      ]
    },
    {
      "cell_type": "code",
      "execution_count": null,
      "metadata": {
        "id": "4xv0CdzHWSM0",
        "outputId": "ee50ab0a-6ead-40ad-9ad5-e602c8c4f890"
      },
      "outputs": [
        {
          "data": {
            "text/plain": [
              "array([[2., 2., 2., 2., 2.],\n",
              "       [2., 2., 2., 2., 2.],\n",
              "       [2., 2., 2., 2., 2.],\n",
              "       [2., 2., 2., 2., 2.],\n",
              "       [2., 2., 2., 2., 2.]])"
            ]
          },
          "execution_count": 36,
          "metadata": {},
          "output_type": "execute_result"
        }
      ],
      "source": [
        "y + z  # wait, what?"
      ]
    },
    {
      "cell_type": "markdown",
      "metadata": {
        "id": "jrz4u_OcWSM0"
      },
      "source": [
        "What happened in the cell above is \"broadcasting\" and we'll discuss it below."
      ]
    },
    {
      "cell_type": "markdown",
      "metadata": {
        "id": "v2NsIrgfWSM0"
      },
      "source": [
        "## 3. Array Operations and Broadcasting\n",
        "<hr>"
      ]
    },
    {
      "cell_type": "markdown",
      "metadata": {
        "id": "QgK00Gt7WSM0"
      },
      "source": [
        "### Elementwise operations\n",
        "\n",
        "Elementwise operations refer to operations applied to each element of an array or between the paired elements of two arrays."
      ]
    },
    {
      "cell_type": "code",
      "execution_count": null,
      "metadata": {
        "id": "CUvlcqZkWSM0",
        "outputId": "396c0aea-0b43-4a5f-f30e-41aef729067b"
      },
      "outputs": [
        {
          "data": {
            "text/plain": [
              "array([1., 1., 1., 1.])"
            ]
          },
          "execution_count": 41,
          "metadata": {},
          "output_type": "execute_result"
        }
      ],
      "source": [
        "x = np.ones(4)\n",
        "x"
      ]
    },
    {
      "cell_type": "code",
      "execution_count": null,
      "metadata": {
        "id": "74M8uZwjWSM0",
        "outputId": "c9b7769c-e78a-4f11-a743-76094177f38e"
      },
      "outputs": [
        {
          "data": {
            "text/plain": [
              "array([2., 2., 2., 2.])"
            ]
          },
          "execution_count": 42,
          "metadata": {},
          "output_type": "execute_result"
        }
      ],
      "source": [
        "y = x + 1\n",
        "y"
      ]
    },
    {
      "cell_type": "code",
      "execution_count": null,
      "metadata": {
        "id": "Ioh9gprsWSM0",
        "outputId": "95658833-30a5-4025-9bef-56752eede1bb"
      },
      "outputs": [
        {
          "data": {
            "text/plain": [
              "array([-1., -1., -1., -1.])"
            ]
          },
          "execution_count": 43,
          "metadata": {},
          "output_type": "execute_result"
        }
      ],
      "source": [
        "x - y"
      ]
    },
    {
      "cell_type": "code",
      "execution_count": null,
      "metadata": {
        "id": "uhvIoJ5-WSM1",
        "outputId": "4bce493e-bc3a-49d0-eedb-e1144c04332a"
      },
      "outputs": [
        {
          "data": {
            "text/plain": [
              "array([False, False, False, False])"
            ]
          },
          "execution_count": 44,
          "metadata": {},
          "output_type": "execute_result"
        }
      ],
      "source": [
        "x == y"
      ]
    },
    {
      "cell_type": "code",
      "execution_count": null,
      "metadata": {
        "id": "-JlWnW57WSM1",
        "outputId": "98fcee11-f626-42fe-f0be-c2e46986c7b8"
      },
      "outputs": [
        {
          "data": {
            "text/plain": [
              "array([2., 2., 2., 2.])"
            ]
          },
          "execution_count": 45,
          "metadata": {},
          "output_type": "execute_result"
        }
      ],
      "source": [
        "x * y"
      ]
    },
    {
      "cell_type": "code",
      "execution_count": null,
      "metadata": {
        "id": "2g_v1CMZWSM1",
        "outputId": "4d8e61c7-a60e-4685-a4de-b4ffcf232c4a"
      },
      "outputs": [
        {
          "data": {
            "text/plain": [
              "array([1., 1., 1., 1.])"
            ]
          },
          "execution_count": 46,
          "metadata": {},
          "output_type": "execute_result"
        }
      ],
      "source": [
        "x ** y"
      ]
    },
    {
      "cell_type": "code",
      "execution_count": null,
      "metadata": {
        "id": "-t275QRxWSM1",
        "outputId": "b72da551-44ce-41db-ac80-bfab5e186481"
      },
      "outputs": [
        {
          "data": {
            "text/plain": [
              "array([0.5, 0.5, 0.5, 0.5])"
            ]
          },
          "execution_count": 47,
          "metadata": {},
          "output_type": "execute_result"
        }
      ],
      "source": [
        "x / y"
      ]
    },
    {
      "cell_type": "code",
      "execution_count": null,
      "metadata": {
        "id": "BgE-E9Y1WSM1",
        "outputId": "95d8e99d-c1ae-495f-a7eb-1cac6892c44c"
      },
      "outputs": [
        {
          "data": {
            "text/plain": [
              "False"
            ]
          },
          "execution_count": 52,
          "metadata": {},
          "output_type": "execute_result"
        }
      ],
      "source": [
        "np.array_equal(x, y)"
      ]
    },
    {
      "cell_type": "markdown",
      "metadata": {
        "id": "scjcwYL4WSM1"
      },
      "source": [
        "### Broadcasting"
      ]
    },
    {
      "cell_type": "markdown",
      "metadata": {
        "id": "hy9cLYH4WSM1"
      },
      "source": [
        "ndarrays with different sizes cannot be directly used in arithmetic operations:"
      ]
    },
    {
      "cell_type": "code",
      "execution_count": null,
      "metadata": {
        "tags": [
          "raises-exception"
        ],
        "id": "8jM0pZvjWSM1",
        "outputId": "57d2e42d-947f-4bc9-b35e-dadee16989db"
      },
      "outputs": [
        {
          "ename": "ValueError",
          "evalue": "operands could not be broadcast together with shapes (2,2) (3,3) ",
          "output_type": "error",
          "traceback": [
            "\u001b[0;31m---------------------------------------------------------------------------\u001b[0m",
            "\u001b[0;31mValueError\u001b[0m                                Traceback (most recent call last)",
            "\u001b[0;32m<ipython-input-54-7b429ebe865f>\u001b[0m in \u001b[0;36m<module>\u001b[0;34m\u001b[0m\n\u001b[1;32m      1\u001b[0m \u001b[0ma\u001b[0m \u001b[0;34m=\u001b[0m \u001b[0mnp\u001b[0m\u001b[0;34m.\u001b[0m\u001b[0mones\u001b[0m\u001b[0;34m(\u001b[0m\u001b[0;34m(\u001b[0m\u001b[0;36m2\u001b[0m\u001b[0;34m,\u001b[0m \u001b[0;36m2\u001b[0m\u001b[0;34m)\u001b[0m\u001b[0;34m)\u001b[0m\u001b[0;34m\u001b[0m\u001b[0;34m\u001b[0m\u001b[0m\n\u001b[1;32m      2\u001b[0m \u001b[0mb\u001b[0m \u001b[0;34m=\u001b[0m \u001b[0mnp\u001b[0m\u001b[0;34m.\u001b[0m\u001b[0mones\u001b[0m\u001b[0;34m(\u001b[0m\u001b[0;34m(\u001b[0m\u001b[0;36m3\u001b[0m\u001b[0;34m,\u001b[0m \u001b[0;36m3\u001b[0m\u001b[0;34m)\u001b[0m\u001b[0;34m)\u001b[0m\u001b[0;34m\u001b[0m\u001b[0;34m\u001b[0m\u001b[0m\n\u001b[0;32m----> 3\u001b[0;31m \u001b[0ma\u001b[0m \u001b[0;34m+\u001b[0m \u001b[0mb\u001b[0m\u001b[0;34m\u001b[0m\u001b[0;34m\u001b[0m\u001b[0m\n\u001b[0m",
            "\u001b[0;31mValueError\u001b[0m: operands could not be broadcast together with shapes (2,2) (3,3) "
          ]
        }
      ],
      "source": [
        "a = np.ones((2, 2))\n",
        "b = np.ones((3, 3))\n",
        "a + b"
      ]
    },
    {
      "cell_type": "markdown",
      "metadata": {
        "id": "hZ50yZKeWSM2"
      },
      "source": [
        "`Broadcasting` describes how NumPy treats arrays with different shapes during arithmetic operations. The idea is to wrangle data so that operations can occur element-wise.\n",
        "\n",
        "Let's see an example. Say I sell pies on my weekends. I sell 3 types of pies at different prices, and I sold the following number of each pie last weekend. I want to know how much money I made per pie type per day.\n",
        "\n",
        "![](https://www.tomasbeuzen.com/python-programming-for-data-science/_images/pies.png)"
      ]
    },
    {
      "cell_type": "code",
      "execution_count": null,
      "metadata": {
        "id": "mYP9DCRNWSM2",
        "outputId": "61f102d7-f224-436b-d5ef-6d27a98c3dbd"
      },
      "outputs": [
        {
          "name": "stdout",
          "output_type": "stream",
          "text": [
            "Pie cost:\n",
            "[20 15 25]\n",
            "\n",
            "Pie sales (#):\n",
            "[[2 3 1]\n",
            " [6 3 3]\n",
            " [5 3 5]]\n"
          ]
        }
      ],
      "source": [
        "cost = np.array([20, 15, 25])\n",
        "print(\"Pie cost:\")\n",
        "print(cost)\n",
        "sales = np.array([[2, 3, 1], [6, 3, 3], [5, 3, 5]])\n",
        "print(\"\\nPie sales (#):\")\n",
        "print(sales)"
      ]
    },
    {
      "cell_type": "markdown",
      "metadata": {
        "id": "bEMm3QTmWSM2"
      },
      "source": [
        "How can we multiply these two arrays together? We could use a loop:\n",
        "\n",
        "![](https://www.tomasbeuzen.com/python-programming-for-data-science/_images/pies_loop.png)"
      ]
    },
    {
      "cell_type": "code",
      "execution_count": null,
      "metadata": {
        "id": "Yht5LGqxWSM2",
        "outputId": "5fbd8c90-3c58-48b3-e463-05c39e7c8432"
      },
      "outputs": [
        {
          "data": {
            "text/plain": [
              "array([[ 40.,  60.,  20.],\n",
              "       [ 90.,  45.,  45.],\n",
              "       [125.,  75., 125.]])"
            ]
          },
          "execution_count": 58,
          "metadata": {},
          "output_type": "execute_result"
        }
      ],
      "source": [
        "total = np.zeros((3, 3))  # initialize an array of 0's\n",
        "for col in range(sales.shape[1]):\n",
        "    total[:, col] = sales[:, col] * cost\n",
        "total"
      ]
    },
    {
      "cell_type": "markdown",
      "metadata": {
        "id": "i-3iG1zRWSM2"
      },
      "source": [
        "Or we could make them the same size, and multiply corresponding elements \"elementwise\":\n",
        "\n",
        "![](https://www.tomasbeuzen.com/python-programming-for-data-science/_images/pies_broadcast.png)"
      ]
    },
    {
      "cell_type": "code",
      "execution_count": null,
      "metadata": {
        "id": "venWhfXXWSM2",
        "outputId": "7ccb12b7-7c13-4505-bd0d-8597a9e6afc8"
      },
      "outputs": [
        {
          "data": {
            "text/plain": [
              "array([[20, 20, 20],\n",
              "       [15, 15, 15],\n",
              "       [25, 25, 25]])"
            ]
          },
          "execution_count": 59,
          "metadata": {},
          "output_type": "execute_result"
        }
      ],
      "source": [
        "cost = np.repeat(cost, 3).reshape((3, 3))\n",
        "cost"
      ]
    },
    {
      "cell_type": "code",
      "execution_count": null,
      "metadata": {
        "id": "QZEzXJJvWSM2",
        "outputId": "bfcaf341-3328-4448-8fd9-543bdf2b3c7a"
      },
      "outputs": [
        {
          "data": {
            "text/plain": [
              "array([[ 40,  60,  20],\n",
              "       [ 90,  45,  45],\n",
              "       [125,  75, 125]])"
            ]
          },
          "execution_count": 60,
          "metadata": {},
          "output_type": "execute_result"
        }
      ],
      "source": [
        "cost * sales"
      ]
    },
    {
      "cell_type": "markdown",
      "metadata": {
        "id": "pv1wpLgtWSM3"
      },
      "source": [
        "Congratulations! You just broadcasted! Broadcasting is just Numpy eessentially doing the `np.repeat()` for you under the hood:"
      ]
    },
    {
      "cell_type": "code",
      "execution_count": null,
      "metadata": {
        "id": "YBripNyTWSM3",
        "outputId": "05222de0-cb4c-4aea-c064-59ca1f7e60db"
      },
      "outputs": [
        {
          "name": "stdout",
          "output_type": "stream",
          "text": [
            " cost shape: (3, 1)\n",
            "sales shape: (3, 3)\n"
          ]
        }
      ],
      "source": [
        "cost = np.array([20, 15, 25]).reshape(3, 1)\n",
        "print(f\" cost shape: {cost.shape}\")\n",
        "sales = np.array([[2, 3, 1], [6, 3, 3], [5, 3, 5]])\n",
        "print(f\"sales shape: {sales.shape}\")"
      ]
    },
    {
      "cell_type": "code",
      "execution_count": null,
      "metadata": {
        "id": "cN5g0fxLWSM3",
        "outputId": "2e24052f-fa6e-4d1a-8d03-8aa1012dacdd"
      },
      "outputs": [
        {
          "data": {
            "text/plain": [
              "array([[ 40,  60,  20],\n",
              "       [ 90,  45,  45],\n",
              "       [125,  75, 125]])"
            ]
          },
          "execution_count": 62,
          "metadata": {},
          "output_type": "execute_result"
        }
      ],
      "source": [
        "sales * cost"
      ]
    },
    {
      "cell_type": "markdown",
      "metadata": {
        "id": "o5cONG-nWSM3"
      },
      "source": [
        "In NumPy the smaller array is “broadcast” across the larger array so that they have compatible shapes:\n",
        "\n",
        "![](https://www.tomasbeuzen.com/python-programming-for-data-science/_images/broadcasting.png)\n",
        "\n",
        "Source: [Python Data Science Handbook](https://jakevdp.github.io/PythonDataScienceHandbook/) by Jake VanderPlas (2016)"
      ]
    },
    {
      "cell_type": "markdown",
      "metadata": {
        "id": "T_OsamNEWSM3"
      },
      "source": [
        "Why should you care about broadcasting? Well, it's cleaner and faster than looping and it also affects the array shapes resulting from arithmetic operations. Below, we can time how long it takes to loop vs broadcast:"
      ]
    },
    {
      "cell_type": "code",
      "execution_count": null,
      "metadata": {
        "id": "24cWUR4eWSM3",
        "outputId": "20c40377-8f8e-4eb9-b67e-b093c3af5530"
      },
      "outputs": [
        {
          "name": "stdout",
          "output_type": "stream",
          "text": [
            "Broadcasting is 8.67x faster than looping here.\n"
          ]
        }
      ],
      "source": [
        "cost = np.array([20, 15, 25]).reshape(3, 1)\n",
        "sales = np.array([[2, 3, 1],\n",
        "                  [6, 3, 3],\n",
        "                  [5, 3, 5]])\n",
        "total = np.zeros((3, 3))\n",
        "\n",
        "time_loop = %timeit -q -o -r 3 for col in range(sales.shape[1]): total[:, col] = sales[:, col] * np.squeeze(cost)\n",
        "time_vec = %timeit -q -o -r 3 cost * sales\n",
        "print(f\"Broadcasting is {time_loop.average / time_vec.average:.2f}x faster than looping here.\")"
      ]
    },
    {
      "cell_type": "markdown",
      "metadata": {
        "id": "8gk7r6XoWSM3"
      },
      "source": [
        "Of course, not all arrays are compatible! NumPy compares arrays element-wise. It starts with the trailing dimensions, and works its way forward. Dimensions are compatible if:\n",
        "- **they are equal**, or\n",
        "- **one of them is 1**.\n",
        "\n",
        "Use the code below to test out array compatibitlity:"
      ]
    },
    {
      "cell_type": "code",
      "execution_count": null,
      "metadata": {
        "id": "ouX_0krRWSM4",
        "outputId": "35f3f9ee-6832-45af-8436-5563caa76ced"
      },
      "outputs": [
        {
          "name": "stdout",
          "output_type": "stream",
          "text": [
            "The shape of a is: (3, 2)\n",
            "The shape of b is: (3, 2, 1)\n",
            "\n",
            "ERROR: arrays are NOT broadcast compatible!\n"
          ]
        }
      ],
      "source": [
        "a = np.ones((3, 2))\n",
        "b = np.ones((3, 2, 1))\n",
        "print(f\"The shape of a is: {a.shape}\")\n",
        "print(f\"The shape of b is: {b.shape}\")\n",
        "print(\"\")\n",
        "try:\n",
        "    print(f\"The shape of a + b is: {(a + b).shape}\")\n",
        "except:\n",
        "    print(f\"ERROR: arrays are NOT broadcast compatible!\")"
      ]
    },
    {
      "cell_type": "markdown",
      "metadata": {
        "id": "0Rv3JTuMWSM4"
      },
      "source": [
        "### Reshaping Arrays"
      ]
    },
    {
      "cell_type": "markdown",
      "metadata": {
        "id": "QN3Va69CWSM4"
      },
      "source": [
        "There are 3 key reshaping methods I want you to know about for reshaping numpy arrays:\n",
        "- `.rehshape()`\n",
        "- `np.newaxis`\n",
        "- `.ravel()`/`.flatten()`"
      ]
    },
    {
      "cell_type": "code",
      "execution_count": null,
      "metadata": {
        "id": "g7pq2G8cWSM4",
        "outputId": "e68d1a46-5a42-48cb-c3c7-2a48b137bf71"
      },
      "outputs": [
        {
          "data": {
            "text/plain": [
              "array([[3.14, 3.14, 3.14],\n",
              "       [3.14, 3.14, 3.14],\n",
              "       [3.14, 3.14, 3.14],\n",
              "       [3.14, 3.14, 3.14]])"
            ]
          },
          "execution_count": 65,
          "metadata": {},
          "output_type": "execute_result"
        }
      ],
      "source": [
        "x = np.full((4, 3), 3.14)\n",
        "x"
      ]
    },
    {
      "cell_type": "markdown",
      "metadata": {
        "id": "Do6Xn37wWSM4"
      },
      "source": [
        "You'll reshape arrays farily often and the `.reshape()` method is pretty intuitive:"
      ]
    },
    {
      "cell_type": "code",
      "execution_count": null,
      "metadata": {
        "id": "4iHctiv5WSM4",
        "outputId": "e2fbf673-c9c6-452d-87d5-a2b6aa11f7b7"
      },
      "outputs": [
        {
          "data": {
            "text/plain": [
              "array([[3.14, 3.14],\n",
              "       [3.14, 3.14],\n",
              "       [3.14, 3.14],\n",
              "       [3.14, 3.14],\n",
              "       [3.14, 3.14],\n",
              "       [3.14, 3.14]])"
            ]
          },
          "execution_count": 66,
          "metadata": {},
          "output_type": "execute_result"
        }
      ],
      "source": [
        "x.reshape(6, 2)"
      ]
    },
    {
      "cell_type": "code",
      "execution_count": null,
      "metadata": {
        "id": "dePUBex7WSM4",
        "outputId": "26d93acd-99d4-4cb2-efb8-6a1242cb9357"
      },
      "outputs": [
        {
          "data": {
            "text/plain": [
              "array([[3.14, 3.14, 3.14, 3.14, 3.14, 3.14],\n",
              "       [3.14, 3.14, 3.14, 3.14, 3.14, 3.14]])"
            ]
          },
          "execution_count": 67,
          "metadata": {},
          "output_type": "execute_result"
        }
      ],
      "source": [
        "x.reshape(2, -1)  # using -1 will calculate the dimension for you (if possible)"
      ]
    },
    {
      "cell_type": "code",
      "execution_count": null,
      "metadata": {
        "id": "AhUnFe6SWSM4",
        "outputId": "8a4a3ce1-52b0-4656-c802-6607653780d1"
      },
      "outputs": [
        {
          "name": "stdout",
          "output_type": "stream",
          "text": [
            "Dimensions: 1\n",
            "     Shape: (3,)\n",
            "      Size: 3\n",
            "\n",
            "[1. 1. 1.]\n",
            "Dimensions: 2\n",
            "     Shape: (3, 2)\n",
            "      Size: 6\n",
            "\n",
            "[[1. 1.]\n",
            " [1. 1.]\n",
            " [1. 1.]]\n"
          ]
        }
      ],
      "source": [
        "a = np.ones(3)\n",
        "print_array(a)\n",
        "b = np.ones((3, 2))\n",
        "print_array(b)"
      ]
    },
    {
      "cell_type": "markdown",
      "metadata": {
        "id": "XB2ZGhMOWSM5"
      },
      "source": [
        "If I want to add these two arrays I won't be able to because their dimensions are not compatible:"
      ]
    },
    {
      "cell_type": "code",
      "execution_count": null,
      "metadata": {
        "tags": [
          "raises-exception"
        ],
        "id": "Wirw3yQQWSM5",
        "outputId": "fcb26baa-0f87-4af2-8417-dabc0a69b49b"
      },
      "outputs": [
        {
          "ename": "ValueError",
          "evalue": "operands could not be broadcast together with shapes (3,) (3,2) ",
          "output_type": "error",
          "traceback": [
            "\u001b[0;31m---------------------------------------------------------------------------\u001b[0m",
            "\u001b[0;31mValueError\u001b[0m                                Traceback (most recent call last)",
            "\u001b[0;32m<ipython-input-69-bd58363a63fc>\u001b[0m in \u001b[0;36m<module>\u001b[0;34m\u001b[0m\n\u001b[0;32m----> 1\u001b[0;31m \u001b[0ma\u001b[0m \u001b[0;34m+\u001b[0m \u001b[0mb\u001b[0m\u001b[0;34m\u001b[0m\u001b[0;34m\u001b[0m\u001b[0m\n\u001b[0m",
            "\u001b[0;31mValueError\u001b[0m: operands could not be broadcast together with shapes (3,) (3,2) "
          ]
        }
      ],
      "source": [
        "a + b"
      ]
    },
    {
      "cell_type": "markdown",
      "metadata": {
        "id": "o_pV4vvmWSM5"
      },
      "source": [
        "Sometimes you'll want to add dimensions to an array for broadcasting purposes like this. We can do that with `np.newaxis` (note that `None` is an alias for `np.newaxis`). We can add a dimension to `a` to make the arrays compatible:"
      ]
    },
    {
      "cell_type": "code",
      "execution_count": null,
      "metadata": {
        "id": "Ln0Yit1hWSM5",
        "outputId": "51b17adf-811c-4a1f-ff10-670376c4587e"
      },
      "outputs": [
        {
          "name": "stdout",
          "output_type": "stream",
          "text": [
            "Dimensions: 2\n",
            "     Shape: (3, 1)\n",
            "      Size: 3\n",
            "\n",
            "[[1.]\n",
            " [1.]\n",
            " [1.]]\n"
          ]
        }
      ],
      "source": [
        "print_array(a[:, np.newaxis])  # same as a[:, None]"
      ]
    },
    {
      "cell_type": "code",
      "execution_count": null,
      "metadata": {
        "id": "4sCytfGXWSM5",
        "outputId": "4e5c22a3-bbfb-4591-8c71-18aefef59d0b"
      },
      "outputs": [
        {
          "data": {
            "text/plain": [
              "array([[2., 2.],\n",
              "       [2., 2.],\n",
              "       [2., 2.]])"
            ]
          },
          "execution_count": 71,
          "metadata": {},
          "output_type": "execute_result"
        }
      ],
      "source": [
        "a[:, np.newaxis] + b"
      ]
    },
    {
      "cell_type": "markdown",
      "metadata": {
        "id": "VXUM2AECWSM5"
      },
      "source": [
        "Finally, sometimes you'll want to \"flatten\" arrays to a single dimension using `.ravel()` or `.flatten()`. `.flatten()` used to return a copy and `.ravel()` a view/reference but now they both return a copy so I can't think of an important reason to use one over the other 🤷‍♂️"
      ]
    },
    {
      "cell_type": "code",
      "execution_count": null,
      "metadata": {
        "id": "z9tKX1yHWSM5",
        "outputId": "1cc4aca0-0c7c-489d-fbf9-eca69790886f"
      },
      "outputs": [
        {
          "data": {
            "text/plain": [
              "array([[3.14, 3.14, 3.14],\n",
              "       [3.14, 3.14, 3.14],\n",
              "       [3.14, 3.14, 3.14],\n",
              "       [3.14, 3.14, 3.14]])"
            ]
          },
          "execution_count": 72,
          "metadata": {},
          "output_type": "execute_result"
        }
      ],
      "source": [
        "x"
      ]
    },
    {
      "cell_type": "code",
      "execution_count": null,
      "metadata": {
        "id": "QrxijWtGWSM6",
        "outputId": "245d8522-c4de-4e46-cc40-12ffc51d265e"
      },
      "outputs": [
        {
          "name": "stdout",
          "output_type": "stream",
          "text": [
            "Dimensions: 1\n",
            "     Shape: (12,)\n",
            "      Size: 12\n",
            "\n",
            "[3.14 3.14 3.14 3.14 3.14 3.14 3.14 3.14 3.14 3.14 3.14 3.14]\n"
          ]
        }
      ],
      "source": [
        "print_array(x.flatten())"
      ]
    },
    {
      "cell_type": "code",
      "execution_count": null,
      "metadata": {
        "id": "bB_ZyJZxWSM6",
        "outputId": "ed94585e-5dfb-4c89-bdf6-8a6f8956cd18"
      },
      "outputs": [
        {
          "name": "stdout",
          "output_type": "stream",
          "text": [
            "Dimensions: 1\n",
            "     Shape: (12,)\n",
            "      Size: 12\n",
            "\n",
            "[3.14 3.14 3.14 3.14 3.14 3.14 3.14 3.14 3.14 3.14 3.14 3.14]\n"
          ]
        }
      ],
      "source": [
        "print_array(x.ravel())"
      ]
    },
    {
      "cell_type": "markdown",
      "metadata": {
        "id": "Cp8HeLdhWSM6"
      },
      "source": [
        "## 4. Indexing and slicing\n",
        "<hr>"
      ]
    },
    {
      "cell_type": "markdown",
      "metadata": {
        "id": "rj9ZOfXIWSM6"
      },
      "source": [
        "Concepts of indexing should be pretty familiar by now. Indexing arrays is similar to indexing lists but there are just more dimensions."
      ]
    },
    {
      "cell_type": "markdown",
      "metadata": {
        "id": "pUxpr5zvWSM6"
      },
      "source": [
        "### Numeric Indexing"
      ]
    },
    {
      "cell_type": "code",
      "execution_count": null,
      "metadata": {
        "id": "YGbiCLYKWSM6",
        "outputId": "e91df698-ae8d-4b34-b611-242048b93741"
      },
      "outputs": [
        {
          "data": {
            "text/plain": [
              "array([0, 1, 2, 3, 4, 5, 6, 7, 8, 9])"
            ]
          },
          "execution_count": 75,
          "metadata": {},
          "output_type": "execute_result"
        }
      ],
      "source": [
        "x = np.arange(10)\n",
        "x"
      ]
    },
    {
      "cell_type": "code",
      "execution_count": null,
      "metadata": {
        "id": "ChIYRrpOWSM6",
        "outputId": "5f0b5997-7185-4642-f302-52a9bbe6f34d"
      },
      "outputs": [
        {
          "data": {
            "text/plain": [
              "3"
            ]
          },
          "execution_count": 76,
          "metadata": {},
          "output_type": "execute_result"
        }
      ],
      "source": [
        "x[3]"
      ]
    },
    {
      "cell_type": "code",
      "execution_count": null,
      "metadata": {
        "id": "gyI4Lx0-WSM6",
        "outputId": "2f14a07f-5153-4db9-d141-1aa2feb57bc3"
      },
      "outputs": [
        {
          "data": {
            "text/plain": [
              "array([2, 3, 4, 5, 6, 7, 8, 9])"
            ]
          },
          "execution_count": 77,
          "metadata": {},
          "output_type": "execute_result"
        }
      ],
      "source": [
        "x[2:]"
      ]
    },
    {
      "cell_type": "code",
      "execution_count": null,
      "metadata": {
        "id": "te9z6zrZWSM6",
        "outputId": "bc61e8e2-c316-4308-f0a5-625303416460"
      },
      "outputs": [
        {
          "data": {
            "text/plain": [
              "array([0, 1, 2, 3])"
            ]
          },
          "execution_count": 78,
          "metadata": {},
          "output_type": "execute_result"
        }
      ],
      "source": [
        "x[:4]"
      ]
    },
    {
      "cell_type": "code",
      "execution_count": null,
      "metadata": {
        "id": "ikuGwWezWSM7",
        "outputId": "01580d2b-6c1a-4d48-a279-2ab90f977210"
      },
      "outputs": [
        {
          "data": {
            "text/plain": [
              "array([2, 3, 4])"
            ]
          },
          "execution_count": 79,
          "metadata": {},
          "output_type": "execute_result"
        }
      ],
      "source": [
        "x[2:5]"
      ]
    },
    {
      "cell_type": "code",
      "execution_count": null,
      "metadata": {
        "id": "UYvlmQoOWSM7",
        "outputId": "728c2a8f-1d8d-4a7d-f1eb-55141ab4b38e"
      },
      "outputs": [
        {
          "data": {
            "text/plain": [
              "array([2])"
            ]
          },
          "execution_count": 80,
          "metadata": {},
          "output_type": "execute_result"
        }
      ],
      "source": [
        "x[2:3]"
      ]
    },
    {
      "cell_type": "code",
      "execution_count": null,
      "metadata": {
        "id": "TIJ8ckbhWSM7",
        "outputId": "f0b6c00c-3f87-446d-81d4-48e7744d3880"
      },
      "outputs": [
        {
          "data": {
            "text/plain": [
              "9"
            ]
          },
          "execution_count": 81,
          "metadata": {},
          "output_type": "execute_result"
        }
      ],
      "source": [
        "x[-1]"
      ]
    },
    {
      "cell_type": "code",
      "execution_count": null,
      "metadata": {
        "id": "uikKKCq_WSM7",
        "outputId": "c4db7428-19b7-492c-c9b5-aee3712d851b"
      },
      "outputs": [
        {
          "data": {
            "text/plain": [
              "8"
            ]
          },
          "execution_count": 82,
          "metadata": {},
          "output_type": "execute_result"
        }
      ],
      "source": [
        "x[-2]"
      ]
    },
    {
      "cell_type": "code",
      "execution_count": null,
      "metadata": {
        "scrolled": true,
        "id": "CgqJrhvHWSM7",
        "outputId": "c2f9118a-ad42-49f3-a429-95dc10a0e0ba"
      },
      "outputs": [
        {
          "data": {
            "text/plain": [
              "array([5, 4, 3, 2, 1])"
            ]
          },
          "execution_count": 83,
          "metadata": {},
          "output_type": "execute_result"
        }
      ],
      "source": [
        "x[5:0:-1]"
      ]
    },
    {
      "cell_type": "markdown",
      "metadata": {
        "id": "LH2mBFs_WSM7"
      },
      "source": [
        "For 2D arrays:"
      ]
    },
    {
      "cell_type": "code",
      "execution_count": null,
      "metadata": {
        "id": "w83gCKU8WSM7",
        "outputId": "7b5e2550-e36c-4587-94ad-17d25c5f80d8"
      },
      "outputs": [
        {
          "data": {
            "text/plain": [
              "array([[9, 5, 0, 2, 3, 4],\n",
              "       [0, 8, 2, 1, 0, 7],\n",
              "       [0, 9, 4, 2, 9, 0],\n",
              "       [4, 4, 0, 8, 3, 9]])"
            ]
          },
          "execution_count": 84,
          "metadata": {},
          "output_type": "execute_result"
        }
      ],
      "source": [
        "x = np.random.randint(10, size=(4, 6))\n",
        "x"
      ]
    },
    {
      "cell_type": "code",
      "execution_count": null,
      "metadata": {
        "id": "oaP9GiEUWSM8",
        "outputId": "e954428c-305c-424d-a6de-611dbe5bf5ba"
      },
      "outputs": [
        {
          "data": {
            "text/plain": [
              "3"
            ]
          },
          "execution_count": 85,
          "metadata": {},
          "output_type": "execute_result"
        }
      ],
      "source": [
        "x[3, 4]  # do this"
      ]
    },
    {
      "cell_type": "code",
      "execution_count": null,
      "metadata": {
        "id": "QGcC2gH2WSM8",
        "outputId": "1cf2d31f-e455-4aac-e274-7450615b7f44"
      },
      "outputs": [
        {
          "data": {
            "text/plain": [
              "3"
            ]
          },
          "execution_count": 86,
          "metadata": {},
          "output_type": "execute_result"
        }
      ],
      "source": [
        "x[3][4]  # i do not like this as much"
      ]
    },
    {
      "cell_type": "code",
      "execution_count": null,
      "metadata": {
        "id": "ecxcftcfWSM8",
        "outputId": "825764dd-582f-4b03-981a-27bb271cd6b2"
      },
      "outputs": [
        {
          "data": {
            "text/plain": [
              "array([4, 4, 0, 8, 3, 9])"
            ]
          },
          "execution_count": 87,
          "metadata": {},
          "output_type": "execute_result"
        }
      ],
      "source": [
        "x[3]"
      ]
    },
    {
      "cell_type": "code",
      "execution_count": null,
      "metadata": {
        "id": "kRPbOv8bWSM8",
        "outputId": "7cebaac1-1a2d-4a92-a4ca-b87cb97ea9bd"
      },
      "outputs": [
        {
          "data": {
            "text/plain": [
              "4"
            ]
          },
          "execution_count": 88,
          "metadata": {},
          "output_type": "execute_result"
        }
      ],
      "source": [
        "len(x)  # generally, just confusing"
      ]
    },
    {
      "cell_type": "code",
      "execution_count": null,
      "metadata": {
        "id": "nB5IJVxOWSM8",
        "outputId": "9ee5e01b-2172-4c39-96f0-0d217fdcb70d"
      },
      "outputs": [
        {
          "data": {
            "text/plain": [
              "(4, 6)"
            ]
          },
          "execution_count": 89,
          "metadata": {},
          "output_type": "execute_result"
        }
      ],
      "source": [
        "x.shape"
      ]
    },
    {
      "cell_type": "code",
      "execution_count": null,
      "metadata": {
        "id": "qv8dF_XLWSM8",
        "outputId": "53210986-6fc6-4c17-97ce-91207e6d2274"
      },
      "outputs": [
        {
          "data": {
            "text/plain": [
              "array([0, 2, 4, 0])"
            ]
          },
          "execution_count": 90,
          "metadata": {},
          "output_type": "execute_result"
        }
      ],
      "source": [
        "x[:, 2]  # column number 2"
      ]
    },
    {
      "cell_type": "code",
      "execution_count": null,
      "metadata": {
        "id": "V2nbekQ3WSM8",
        "outputId": "f50a596e-df74-496b-ed3b-d2d6ff2cbfa1"
      },
      "outputs": [
        {
          "data": {
            "text/plain": [
              "array([[0, 9, 4],\n",
              "       [4, 4, 0]])"
            ]
          },
          "execution_count": 91,
          "metadata": {},
          "output_type": "execute_result"
        }
      ],
      "source": [
        "x[2:, :3]"
      ]
    },
    {
      "cell_type": "code",
      "execution_count": null,
      "metadata": {
        "id": "rvaVygKZWSM9",
        "outputId": "86c6f2c1-dd51-4c2e-9d2f-1736f1389706"
      },
      "outputs": [
        {
          "data": {
            "text/plain": [
              "array([[9, 0, 0, 4],\n",
              "       [5, 8, 9, 4],\n",
              "       [0, 2, 4, 0],\n",
              "       [2, 1, 2, 8],\n",
              "       [3, 0, 9, 3],\n",
              "       [4, 7, 0, 9]])"
            ]
          },
          "execution_count": 92,
          "metadata": {},
          "output_type": "execute_result"
        }
      ],
      "source": [
        "x.T"
      ]
    },
    {
      "cell_type": "code",
      "execution_count": null,
      "metadata": {
        "id": "Yx-TolO7WSM9",
        "outputId": "abc49533-6382-45ff-9f90-3fdfba9550be"
      },
      "outputs": [
        {
          "data": {
            "text/plain": [
              "array([[9, 5, 0, 2, 3, 4],\n",
              "       [0, 8, 2, 1, 0, 7],\n",
              "       [0, 9, 4, 2, 9, 0],\n",
              "       [4, 4, 0, 8, 3, 9]])"
            ]
          },
          "execution_count": 93,
          "metadata": {},
          "output_type": "execute_result"
        }
      ],
      "source": [
        "x"
      ]
    },
    {
      "cell_type": "code",
      "execution_count": null,
      "metadata": {
        "id": "-ReDRA01WSM9",
        "outputId": "251c31c5-d8d3-4f60-94ad-53e6823adafe"
      },
      "outputs": [
        {
          "data": {
            "text/plain": [
              "array([[     9,      5,      0,      2,      3,      4],\n",
              "       [     0, 555555,      2,      1,      0,      7],\n",
              "       [     0,      9,      4,      2,      9,      0],\n",
              "       [     4,      4,      0,      8,      3,      9]])"
            ]
          },
          "execution_count": 94,
          "metadata": {},
          "output_type": "execute_result"
        }
      ],
      "source": [
        "x[1, 1] = 555555\n",
        "x"
      ]
    },
    {
      "cell_type": "code",
      "execution_count": null,
      "metadata": {
        "id": "b_Qq-q6vWSM9",
        "outputId": "714f92a4-2040-4e18-e088-efc407436589"
      },
      "outputs": [
        {
          "data": {
            "text/plain": [
              "array([0., 0., 0., 0., 0.])"
            ]
          },
          "execution_count": 95,
          "metadata": {},
          "output_type": "execute_result"
        }
      ],
      "source": [
        "z = np.zeros(5)\n",
        "z"
      ]
    },
    {
      "cell_type": "code",
      "execution_count": null,
      "metadata": {
        "id": "KvRAqcIsWSM9",
        "outputId": "9e870585-0a9f-4fa4-873c-869fc9cc4dae"
      },
      "outputs": [
        {
          "data": {
            "text/plain": [
              "array([5., 0., 0., 0., 0.])"
            ]
          },
          "execution_count": 96,
          "metadata": {},
          "output_type": "execute_result"
        }
      ],
      "source": [
        "z[0] = 5\n",
        "z"
      ]
    },
    {
      "cell_type": "markdown",
      "metadata": {
        "id": "XqDsK9olWSM9"
      },
      "source": [
        "### Boolean Indexing"
      ]
    },
    {
      "cell_type": "code",
      "execution_count": null,
      "metadata": {
        "jupyter": {
          "outputs_hidden": false
        },
        "id": "PJjNJqVwWSM9",
        "outputId": "ab1827cd-e746-43ee-c606-35ac06ab9143"
      },
      "outputs": [
        {
          "data": {
            "text/plain": [
              "array([0.59134864, 0.18116891, 0.07089194, 0.71975976, 0.95339547,\n",
              "       0.71630937, 0.80956702, 0.94886201, 0.58996084, 0.03238515])"
            ]
          },
          "execution_count": 97,
          "metadata": {},
          "output_type": "execute_result"
        }
      ],
      "source": [
        "x = np.random.rand(10)\n",
        "x"
      ]
    },
    {
      "cell_type": "code",
      "execution_count": null,
      "metadata": {
        "jupyter": {
          "outputs_hidden": false
        },
        "id": "CVbfxvSHWSM9",
        "outputId": "e8b642e6-ab44-45b7-c729-425955b4f2b6"
      },
      "outputs": [
        {
          "data": {
            "text/plain": [
              "array([1.59134864, 1.18116891, 1.07089194, 1.71975976, 1.95339547,\n",
              "       1.71630937, 1.80956702, 1.94886201, 1.58996084, 1.03238515])"
            ]
          },
          "execution_count": 98,
          "metadata": {},
          "output_type": "execute_result"
        }
      ],
      "source": [
        "x + 1"
      ]
    },
    {
      "cell_type": "code",
      "execution_count": null,
      "metadata": {
        "jupyter": {
          "outputs_hidden": false
        },
        "id": "Ask1hnL6WSM-",
        "outputId": "c7fcf995-a3be-4c95-83f7-fbf6bd06892a"
      },
      "outputs": [
        {
          "data": {
            "text/plain": [
              "array([ True, False, False,  True,  True,  True,  True,  True,  True,\n",
              "       False])"
            ]
          },
          "execution_count": 99,
          "metadata": {},
          "output_type": "execute_result"
        }
      ],
      "source": [
        "x_thresh = x > 0.5\n",
        "x_thresh"
      ]
    },
    {
      "cell_type": "code",
      "execution_count": null,
      "metadata": {
        "jupyter": {
          "outputs_hidden": false
        },
        "id": "RWANbiA3WSM-",
        "outputId": "b3b80115-a4f0-41ef-e737-d7bbe40771c2"
      },
      "outputs": [
        {
          "data": {
            "text/plain": [
              "array([0.5       , 0.18116891, 0.07089194, 0.5       , 0.5       ,\n",
              "       0.5       , 0.5       , 0.5       , 0.5       , 0.03238515])"
            ]
          },
          "execution_count": 100,
          "metadata": {},
          "output_type": "execute_result"
        }
      ],
      "source": [
        "x[x_thresh] = 0.5  # set all elements  > 0.5 to be equal to 0.5\n",
        "x"
      ]
    },
    {
      "cell_type": "code",
      "execution_count": null,
      "metadata": {
        "id": "Xj2eQk5jWSM-",
        "outputId": "7edc5873-650b-4d00-d11d-1fc9e13a1e13"
      },
      "outputs": [
        {
          "data": {
            "text/plain": [
              "array([0.62912775, 0.82278712, 0.26534708, 0.8847088 , 0.48882526,\n",
              "       0.04902107, 0.55230008, 0.6579308 , 0.24630664, 0.77826484])"
            ]
          },
          "execution_count": 101,
          "metadata": {},
          "output_type": "execute_result"
        }
      ],
      "source": [
        "x = np.random.rand(10)\n",
        "x"
      ]
    },
    {
      "cell_type": "code",
      "execution_count": null,
      "metadata": {
        "id": "Aynbbz7cWSM-",
        "outputId": "9f7c0909-aac2-40af-c38b-6ac23cdd47bf"
      },
      "outputs": [
        {
          "data": {
            "text/plain": [
              "array([0.5       , 0.5       , 0.26534708, 0.5       , 0.48882526,\n",
              "       0.04902107, 0.5       , 0.5       , 0.24630664, 0.5       ])"
            ]
          },
          "execution_count": 102,
          "metadata": {},
          "output_type": "execute_result"
        }
      ],
      "source": [
        "x[x > 0.5] = 0.5\n",
        "x"
      ]
    },
    {
      "cell_type": "markdown",
      "metadata": {
        "id": "B_CvbkLmWSM-"
      },
      "source": [
        "## 5. More Useful NumPy Functions"
      ]
    },
    {
      "cell_type": "markdown",
      "metadata": {
        "id": "ZnUKcVmeWSM-"
      },
      "source": [
        "Numpy has many built-in functions for mathematical operations, really it has almost every numerical operation you might want to do in its library. I'm not going to explore the whole library here, but as an example of some of the available functions, consider working out the hypotenuse of a triangle that with sides 3m and 4m:\n",
        "\n",
        "![](https://www.tomasbeuzen.com/python-programming-for-data-science/_images/triangle.png)"
      ]
    },
    {
      "cell_type": "code",
      "execution_count": null,
      "metadata": {
        "id": "b08tKQEwWSM-"
      },
      "outputs": [],
      "source": [
        "sides = np.array([3, 4])"
      ]
    },
    {
      "cell_type": "markdown",
      "metadata": {
        "id": "UGfJzTKaWSM-"
      },
      "source": [
        "There are several ways we could solve this problem. We could directly use Pythagoras's Theorem:\n",
        "\n",
        "$$c = \\sqrt{a^2+b^2}$$"
      ]
    },
    {
      "cell_type": "code",
      "execution_count": null,
      "metadata": {
        "id": "MZCeLR58WSM-",
        "outputId": "105fd4ff-406b-4f67-ea34-4a0dabdac7dd"
      },
      "outputs": [
        {
          "data": {
            "text/plain": [
              "5.0"
            ]
          },
          "execution_count": 104,
          "metadata": {},
          "output_type": "execute_result"
        }
      ],
      "source": [
        "np.sqrt(np.sum([np.power(sides[0], 2), np.power(sides[1], 2)]))"
      ]
    },
    {
      "cell_type": "markdown",
      "metadata": {
        "id": "id52D0s9WSM_"
      },
      "source": [
        "We can leverage the fact that we're dealing with a numpy array and apply a \"vectorized\" operation (more on that in a bit) to the whole vector at one time:"
      ]
    },
    {
      "cell_type": "code",
      "execution_count": null,
      "metadata": {
        "id": "fkrV0A6tWSM_",
        "outputId": "3e8c0bbd-ed90-4c42-c420-871d20dce00e"
      },
      "outputs": [
        {
          "data": {
            "text/plain": [
              "5.0"
            ]
          },
          "execution_count": 105,
          "metadata": {},
          "output_type": "execute_result"
        }
      ],
      "source": [
        "(sides ** 2).sum() ** 0.5"
      ]
    },
    {
      "cell_type": "markdown",
      "metadata": {
        "id": "5l1l0FdFWSM_"
      },
      "source": [
        "Or we can simply use a numpy built-in function (if it exists):"
      ]
    },
    {
      "cell_type": "markdown",
      "metadata": {
        "id": "hJ-q-ghLWSNC"
      },
      "source": [
        "### A Practical Example: Vector Quantization"
      ]
    },
    {
      "cell_type": "markdown",
      "metadata": {
        "id": "p7wiIjDFWSNC"
      },
      "source": [
        "Broadcasting comes up quite often in real world problems. A typical example occurs in the vector quantization (VQ) algorithm used in information theory, classification, and other related areas. The basic operation in VQ finds the closest point in a set of points, called codes in VQ jargon, to a given point, called the observation."
      ]
    },
    {
      "cell_type": "markdown",
      "metadata": {
        "id": "R-wQq5X_WSNC"
      },
      "source": [
        "\n",
        "\n",
        "    Athlete         Weigth(kg)          Height(cm)           Profession\n",
        "    \n",
        "      1)               102                 203             Basketball\n",
        "      2)               132                 193             American Football\n",
        "      3)                45                 155             Female Gymnast\n",
        "      4)                57                 173             Marathon Runner\n",
        "      \n",
        "      \n",
        "      5)               105                 187             ??????\n",
        "      \n",
        " Find the profession of the 5th athlete.\n",
        "      \n",
        "\n",
        "In the very simple, two-dimensional case shown above, the values in observation describe the weight and height of an athlete to be classified. The codes represent different classes of athletes. Finding the closest point requires calculating the distance between observation and each of the codes. The shortest distance provides the best match."
      ]
    },
    {
      "cell_type": "code",
      "execution_count": null,
      "metadata": {
        "id": "NP62oahfWSNC"
      },
      "outputs": [],
      "source": [
        "# Your Solution Here\n"
      ]
    },
    {
      "cell_type": "markdown",
      "metadata": {
        "id": "aJbkCvtjWSNC"
      },
      "source": [
        "![](https://numpy.org/doc/1.16/_images/theory.broadcast_5.png)"
      ]
    }
  ],
  "metadata": {
    "kernelspec": {
      "display_name": "Python 3 (ipykernel)",
      "language": "python",
      "name": "python3"
    },
    "language_info": {
      "codemirror_mode": {
        "name": "ipython",
        "version": 3
      },
      "file_extension": ".py",
      "mimetype": "text/x-python",
      "name": "python",
      "nbconvert_exporter": "python",
      "pygments_lexer": "ipython3",
      "version": "3.11.5"
    },
    "toc": {
      "base_numbering": 1,
      "nav_menu": {},
      "number_sections": false,
      "sideBar": true,
      "skip_h1_title": true,
      "title_cell": "Lecture Outline",
      "title_sidebar": "Contents",
      "toc_cell": true,
      "toc_position": {},
      "toc_section_display": true,
      "toc_window_display": true
    },
    "colab": {
      "provenance": []
    }
  },
  "nbformat": 4,
  "nbformat_minor": 0
}