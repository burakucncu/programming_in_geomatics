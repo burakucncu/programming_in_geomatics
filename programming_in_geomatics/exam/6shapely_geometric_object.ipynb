{
 "cells": [
  {
   "cell_type": "markdown",
   "metadata": {},
   "source": [
    "# Shapely and geometric objects\n",
    "\n",
    "In this lesson, you will learn how to create and manipulate geometries in Python\n",
    "using the [Shapely Python\n",
    "Package](https://shapely.readthedocs.io/en/stable/manual.html).\n",
    "\n",
    "**Sources:** Parts of this chapter are based on [shapely’s\n",
    "documentation](https://shapely.readthedocs.io/) and on chapter 3 of [Westra E.\n",
    "(2013)](https://www.packtpub.com/application-development/python-geospatial-development-second-edition).\n",
    "\n",
    "\n",
    "## Spatial data model\n",
    "\n",
    ":::{figure} https://raw.githubusercontent.com/Automating-GIS-processes/site/41a2c8d/docs/static/images/lesson-1/simple-features_595x500px.svg\n",
    ":alt: Spatial data model\n",
    "\n",
    "Fundamental geometric objects (‘simple features’) that can be used in Python\n",
    "with [shapely](https://shapely.readthedocs.io/). <br /> *(Figures by M. W.\n",
    "Toews; cf. [Wikipedia’s article on GeoJSON](https://en.wikipedia.org/wiki/GeoJSON))*\n",
    ":::\n",
    "\n",
    "All geospatial vector data can be described by a combining a set of fundamental\n",
    "geometric objects: **points**, **lines**, and **polygons** are the basic\n",
    "ingredients of working with spatial data.\n",
    "\n",
    "In Python, the library package [shapely](https://shapely.readthedocs.io/) has\n",
    "become the standard tool for working with geo-spatial objects, and for carruing\n",
    "out a range of geometric operations. A basic understanding of how *shapely*\n",
    "works is paramount for using higher-level tools, such as, for instance,\n",
    "[geopandas](https://geopandas.pydata.org/) (see [lesson 2](../lesson-2/overview))\n",
    "that handles entire data sets of geographic information (a.k.a. ‘layers’).\n",
    "\n",
    "\n",
    "Shapely, like the vast majority of geospatial software, follows the data model\n",
    "set forward in the [Open Geospatial Consortium’s *Simple Feature Access*\n",
    "standard](https://www.ogc.org/standards/sfa). In this chapter, we use the\n",
    "terminology used by *shapely*, but the general concepts are applicable much more\n",
    "widely.\n",
    "\n",
    "\n",
    "### Geometric objects are described and constructed by *coordinate tuples*\n",
    "\n",
    "Even more fundamental than that, **coordinate tuples** are what is used to\n",
    "define the geometric fundamentals point, line, and polygon. Coordinate tuples\n",
    "typically are either two-dimensional `(x, y)`, or three-dimensional `(x, y, z)`.\n",
    "\n",
    ":::{admonition} Tuples\n",
    ":class: info\n",
    "\n",
    "A [tuple](https://docs.python.org/3/tutorial/datastructures.html#tuples-and-sequences)\n",
    "is a Python data structure that consists of a number of values separated by\n",
    "commas. Coordinate pairs are often represented as a tuple. For example,\n",
    "`(60.192059, 24.945831)` is a tuple with two values, `(1,)` a tuple with one\n",
    "value (note the comma that distinguishes a one-value tuple from a mathematical\n",
    "expression in parentheses), and `tuple([1, 2, 3])` converts (‘casts’) a `list`\n",
    "into a `tuple`.\n",
    "\n",
    "Tuples belong to the [sequence data\n",
    "types](https://docs.python.org/3/library/stdtypes.html#typesseq) in Python.\n",
    "Other sequence data types are lists and ranges. Tuples have many similarities\n",
    "with lists and ranges, but they are often used for different purposes.\n",
    "\n",
    "The main difference between tuples and lists is that tuples are\n",
    "[immutable](https://docs.python.org/3/glossary.html#term-immutable), which means\n",
    "that the contents of a tuple cannot be altered (while lists are mutable; you\n",
    "can, for example, add and remove values from lists).\n",
    "\n",
    ":::\n",
    "\n",
    "### Points\n",
    "\n",
    "**Point** geometries represent a singular point (in two- or three-dimensional\n",
    "Euclidean space). Points are defined by a single coordinate tuple.\n",
    "\n",
    "### LineStrings\n",
    "\n",
    "**LineString** geometries (and the related **LinearRing**s) represent lines.\n",
    "They are defined by a sequence of points. By connecting the points in order,\n",
    "a line is formed, if the first and last point are the same, a linear ring.\n",
    "Consequently, to describe a *LineString*, at least two points are necessary, \n",
    "for a *LinearRing* at least three (first and last being identical).\n",
    "\n",
    "### Polygons\n",
    "\n",
    "Finally, **Polygon** geometries represent an area. A polygon is defined by\n",
    "exactly one *LinearRing* as its circumference, and any number of additional\n",
    "*LinearRing*s representing holes that are cut out. As such, at minimum, three\n",
    "coordinate tuples are needed to define a Polygon (but it becomes more difficult\n",
    "quickly, as, naturally, the coordinates that define the holes have to lie within\n",
    "the exterior *LinearRing*, and also must not intersect each other).\n",
    "\n",
    "\n",
    "### Collections of geometric objects\n",
    "\n",
    "All of the fundamental geometric types can be combined to represent more complex\n",
    "geographic features, such as, for instance, administrative areas that consist of\n",
    "multiple discontinuous regions:\n",
    "\n",
    "\n",
    ":::{figure} https://raw.githubusercontent.com/Automating-GIS-processes/site/41a2c8d/docs/static/images/lesson-1/multipolygons_595x300px.svg\n",
    ":name: MultiPolygons\n",
    ":alt: A map of Austria showing that the province of Tyrol consists of two\n",
    "\n",
    "*Tyrol*, a federal state of Austria, is a **MultiPolygon**. *(Data: [Statistics\n",
    "Austria](https://data.statistik.gv.at/web/meta.jsp?dataset=OGDEXT_GEM_1))*\n",
    ":::\n",
    "\n",
    "\n",
    "- **MultiPoint** geometries represent collections of points.\n",
    "- **MultiLineString** geometries represent collections of lines.\n",
    "- **MultiPolygon** geometries represent collections of polygons.\n",
    "- **GeometryCollection** geometries are collections of points,\n",
    "  lines, and polygons, as well as multi-points, multi-lines,\n",
    "  and multi-polygons.\n",
    "\n",
    "\n",
    "## Using shapely to create, access, manipulate and analyse geometric objects\n",
    "\n",
    "Shapely can perform many useful operations on geometries, and provides a range\n",
    "of attributes of geometries. For instance, you can:\n",
    "- create lines and polygons from a set of points\n",
    "- calculate the area, length, perimeter, etc., of geometries\n",
    "- perform geometric operations on a set of geometries, for instance, merging\n",
    "  (`union`), subtracting (`difference`), or calculating the distance between\n",
    "  geometries.\n",
    "- query the relationship between geometries, i.e., find out whether two\n",
    "  geometries intersect, touch, cross, etc.\n",
    "\n",
    "\n",
    "### Creating `Point` geometries and accessing their properties\n",
    "\n",
    "Creating a point geometry object is easy: simply pass coordinates (x, y, and\n",
    "possibly z) to its [constructor](https://pythonbasics.org/constructor/)."
   ]
  },
  {
   "cell_type": "code",
   "execution_count": 2,
   "metadata": {},
   "outputs": [
    {
     "name": "stdout",
     "output_type": "stream",
     "text": [
      "Requirement already satisfied: shapely in c:\\users\\burka\\appdata\\local\\programs\\python\\python311\\lib\\site-packages (1.8.5.post1)\n",
      "Note: you may need to restart the kernel to use updated packages.\n"
     ]
    },
    {
     "name": "stderr",
     "output_type": "stream",
     "text": [
      "\n",
      "[notice] A new release of pip is available: 23.2.1 -> 24.0\n",
      "[notice] To update, run: python.exe -m pip install --upgrade pip\n"
     ]
    }
   ],
   "source": [
    "pip install shapely"
   ]
  },
  {
   "cell_type": "markdown",
   "metadata": {},
   "source": [
    "## Problem 1: Creating basic geometries\n",
    "In this problem you will create custom-made functions for creating geometries. We start with a very simple function, and proceed to creating functions that can handle invalid input values. "
   ]
  },
  {
   "cell_type": "code",
   "execution_count": 21,
   "metadata": {},
   "outputs": [],
   "source": [
    "from shapely.geometry import Point\n",
    "def create_point_geom(x_coord, y_coord): \n",
    "    point = Point(x_coord, y_coord) \n",
    "    return point"
   ]
  },
  {
   "cell_type": "code",
   "execution_count": 23,
   "metadata": {},
   "outputs": [
    {
     "data": {
      "image/svg+xml": [
       "<svg xmlns=\"http://www.w3.org/2000/svg\" xmlns:xlink=\"http://www.w3.org/1999/xlink\" width=\"100.0\" height=\"100.0\" viewBox=\"-1.0 0.10000000000000009 2.0 2.0\" preserveAspectRatio=\"xMinYMin meet\"><g transform=\"matrix(1,0,0,-1,0,2.2)\"><circle cx=\"0.0\" cy=\"1.1\" r=\"0.06\" stroke=\"#555555\" stroke-width=\"0.02\" fill=\"#66cc99\" opacity=\"0.6\" /></g></svg>"
      ],
      "text/plain": [
       "<shapely.geometry.point.Point at 0x1205d03d6d0>"
      ]
     },
     "execution_count": 23,
     "metadata": {},
     "output_type": "execute_result"
    }
   ],
   "source": [
    "point1 = create_point_geom(0.0, 1.1)\n",
    "point1"
   ]
  },
  {
   "cell_type": "code",
   "execution_count": 25,
   "metadata": {},
   "outputs": [
    {
     "name": "stdout",
     "output_type": "stream",
     "text": [
      "LINESTRING (45.2 22.34, 100.22 -3.2)\n"
     ]
    },
    {
     "data": {
      "image/svg+xml": [
       "<svg xmlns=\"http://www.w3.org/2000/svg\" xmlns:xlink=\"http://www.w3.org/1999/xlink\" width=\"100.0\" height=\"100.0\" viewBox=\"42.9992 -5.4008 59.4216 29.9416\" preserveAspectRatio=\"xMinYMin meet\"><g transform=\"matrix(1,0,0,-1,0,19.14)\"><polyline fill=\"none\" stroke=\"#66cc99\" stroke-width=\"1.188432\" points=\"45.2,22.34 100.22,-3.2\" opacity=\"0.8\" /></g></svg>"
      ],
      "text/plain": [
       "<shapely.geometry.linestring.LineString at 0x1205d005f50>"
      ]
     },
     "execution_count": 25,
     "metadata": {},
     "output_type": "execute_result"
    }
   ],
   "source": [
    "from shapely.geometry import LineString\n",
    "\n",
    "def create_line_geom(points): \n",
    "    line = LineString(points) \n",
    "    return line\n",
    "\n",
    "\n",
    "point1 = Point(45.2, 22.34)\n",
    "point2 = Point(100.22, -3.20)\n",
    "line1 = create_line_geom([point1, point2]) \n",
    "print(line1)\n",
    "line1"
   ]
  },
  {
   "cell_type": "code",
   "execution_count": 26,
   "metadata": {},
   "outputs": [
    {
     "name": "stdout",
     "output_type": "stream",
     "text": [
      "POLYGON ((45.2 22.34, 100.22 -3.2, 70 10.2, 45.2 22.34))\n"
     ]
    },
    {
     "data": {
      "image/svg+xml": [
       "<svg xmlns=\"http://www.w3.org/2000/svg\" xmlns:xlink=\"http://www.w3.org/1999/xlink\" width=\"100.0\" height=\"100.0\" viewBox=\"42.9992 -5.4008 59.4216 29.9416\" preserveAspectRatio=\"xMinYMin meet\"><g transform=\"matrix(1,0,0,-1,0,19.14)\"><path fill-rule=\"evenodd\" fill=\"#66cc99\" stroke=\"#555555\" stroke-width=\"1.188432\" opacity=\"0.6\" d=\"M 45.2,22.34 L 100.22,-3.2 L 70.0,10.2 L 45.2,22.34 z\" /></g></svg>"
      ],
      "text/plain": [
       "<shapely.geometry.polygon.Polygon at 0x1205ce91950>"
      ]
     },
     "execution_count": 26,
     "metadata": {},
     "output_type": "execute_result"
    }
   ],
   "source": [
    "from shapely.geometry import Polygon\n",
    "\n",
    "\n",
    "def create_poly_geom(coords): \n",
    "    polygon = Polygon(coords) \n",
    "    return polygon\n",
    "\n",
    "coords = [(45.2, 22.34), (100.22, -3.20), (70.0, 10.20)]\n",
    "polygon = create_poly_geom(coords) \n",
    "print(polygon)\n",
    "polygon"
   ]
  },
  {
   "cell_type": "markdown",
   "metadata": {},
   "source": [
    "## Problem 2: Attributes of geometries (*5 points*)\n",
    "\n",
    "1: Create a function called `get_centroid()` that has one parameter called `geom`. The function should take any kind of Shapely's geometric -object as an input, and return a centroid of that geometry."
   ]
  },
  {
   "cell_type": "code",
   "execution_count": 27,
   "metadata": {},
   "outputs": [],
   "source": [
    "def get_centroid(geom): \n",
    "    centroid = geom.centroid \n",
    "    return centroid"
   ]
  },
  {
   "cell_type": "code",
   "execution_count": 28,
   "metadata": {},
   "outputs": [
    {
     "name": "stdout",
     "output_type": "stream",
     "text": [
      "POINT (71.80666666666667 9.780000000000001)\n"
     ]
    },
    {
     "data": {
      "image/svg+xml": [
       "<svg xmlns=\"http://www.w3.org/2000/svg\" xmlns:xlink=\"http://www.w3.org/1999/xlink\" width=\"100.0\" height=\"100.0\" viewBox=\"70.80666666666667 8.780000000000001 2.0 2.0\" preserveAspectRatio=\"xMinYMin meet\"><g transform=\"matrix(1,0,0,-1,0,19.560000000000002)\"><circle cx=\"71.80666666666667\" cy=\"9.780000000000001\" r=\"0.06\" stroke=\"#555555\" stroke-width=\"0.02\" fill=\"#66cc99\" opacity=\"0.6\" /></g></svg>"
      ],
      "text/plain": [
       "<shapely.geometry.point.Point at 0x1205d093210>"
      ]
     },
     "execution_count": 28,
     "metadata": {},
     "output_type": "execute_result"
    }
   ],
   "source": [
    "centroid = get_centroid(polygon)\n",
    "print(centroid)\n",
    "centroid"
   ]
  },
  {
   "cell_type": "markdown",
   "metadata": {},
   "source": [
    "2: Create a function called get_area() with one parameter called polygon. Function should take a Shapely's Polygon -object as input and returns the area of that geometry."
   ]
  },
  {
   "cell_type": "code",
   "execution_count": 29,
   "metadata": {},
   "outputs": [
    {
     "name": "stdout",
     "output_type": "stream",
     "text": [
      "17.28\n"
     ]
    }
   ],
   "source": [
    "def get_area(polygon): \n",
    "    area = polygon.area \n",
    "    return area\n",
    "\n",
    "area = get_area(polygon)\n",
    "print(round(area, 2))"
   ]
  },
  {
   "cell_type": "markdown",
   "metadata": {},
   "source": [
    "3: Create a function called `get_length()` with parameter called `geom`. The function should accept either a Shapely LineString or Polygon -object as input. Function should check the type of the input and returns the length of \n",
    "the line if input is LineString"
   ]
  },
  {
   "cell_type": "code",
   "execution_count": 30,
   "metadata": {},
   "outputs": [
    {
     "name": "stdout",
     "output_type": "stream",
     "text": [
      "Line length: 60.66\n"
     ]
    }
   ],
   "source": [
    "def get_length(polygon):\n",
    "    length = polygon.length\n",
    "    return length\n",
    "\n",
    "line_length = get_length(line1)\n",
    "print(\"Line length:\", round(line_length, 2))"
   ]
  },
  {
   "cell_type": "code",
   "execution_count": null,
   "metadata": {},
   "outputs": [],
   "source": []
  }
 ],
 "metadata": {
  "kernelspec": {
   "display_name": "Python 3",
   "language": "python",
   "name": "python3"
  },
  "language_info": {
   "codemirror_mode": {
    "name": "ipython",
    "version": 3
   },
   "file_extension": ".py",
   "mimetype": "text/x-python",
   "name": "python",
   "nbconvert_exporter": "python",
   "pygments_lexer": "ipython3",
   "version": "3.11.5"
  }
 },
 "nbformat": 4,
 "nbformat_minor": 2
}
