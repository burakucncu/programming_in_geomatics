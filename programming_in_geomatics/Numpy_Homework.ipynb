{
  "cells": [
    {
      "cell_type": "markdown",
      "id": "e21a3fac",
      "metadata": {
        "id": "e21a3fac"
      },
      "source": [
        "# NumPy: Array Homework"
      ]
    },
    {
      "cell_type": "markdown",
      "id": "33b08e8c",
      "metadata": {
        "id": "33b08e8c"
      },
      "source": [
        "### Write a NumPy program to print the NumPy version in your system."
      ]
    },
    {
      "cell_type": "code",
      "execution_count": null,
      "id": "b22c692c",
      "metadata": {
        "id": "b22c692c"
      },
      "outputs": [],
      "source": [
        "# Write here\n"
      ]
    },
    {
      "cell_type": "markdown",
      "id": "d82fa8a0",
      "metadata": {
        "id": "d82fa8a0"
      },
      "source": [
        "### Write a NumPy program to convert a list of numeric value into a one-dimensional NumPy array"
      ]
    },
    {
      "cell_type": "code",
      "execution_count": null,
      "id": "6152b1de",
      "metadata": {
        "id": "6152b1de"
      },
      "outputs": [],
      "source": [
        "# Write here\n"
      ]
    },
    {
      "cell_type": "markdown",
      "id": "d6944a26",
      "metadata": {
        "id": "d6944a26"
      },
      "source": [
        "### Write a NumPy program to create a 3x3 matrix with values ranging from 2 to 10"
      ]
    },
    {
      "cell_type": "code",
      "execution_count": null,
      "id": "110cfba3",
      "metadata": {
        "id": "110cfba3"
      },
      "outputs": [],
      "source": [
        "# Write here\n"
      ]
    },
    {
      "cell_type": "markdown",
      "id": "809ebc2f",
      "metadata": {
        "id": "809ebc2f"
      },
      "source": [
        "## Create an identity matrix of dimension 4-by-4\n",
        "\n"
      ]
    },
    {
      "cell_type": "code",
      "execution_count": null,
      "id": "bb6bdd75",
      "metadata": {
        "id": "bb6bdd75"
      },
      "outputs": [],
      "source": [
        "# Write here\n"
      ]
    },
    {
      "cell_type": "markdown",
      "id": "91f53d87",
      "metadata": {
        "id": "91f53d87"
      },
      "source": [
        "## Array re-dimensioning: Convert a 1-D array to a 3-D array"
      ]
    },
    {
      "cell_type": "code",
      "execution_count": null,
      "id": "15e1d4af",
      "metadata": {
        "id": "15e1d4af"
      },
      "outputs": [],
      "source": [
        "# Write here\n",
        "\n"
      ]
    },
    {
      "cell_type": "markdown",
      "id": "1c24669d",
      "metadata": {
        "id": "1c24669d"
      },
      "source": [
        "## Array datatype conversion: Convert all the elements of a numpy array from float to integer datatype"
      ]
    },
    {
      "cell_type": "code",
      "execution_count": null,
      "id": "5dd7220b",
      "metadata": {
        "id": "5dd7220b"
      },
      "outputs": [],
      "source": [
        "# Write here\n"
      ]
    },
    {
      "cell_type": "markdown",
      "id": "a8a4089d",
      "metadata": {
        "id": "a8a4089d"
      },
      "source": [
        "## Horizontal Stacking of Numpy Arrays: Stack 2 numpy arrays horizontally i.e., 2 arrays having the same 1st dimension (number of rows in 2D arrays)"
      ]
    },
    {
      "cell_type": "code",
      "execution_count": null,
      "id": "7c4f59a4",
      "metadata": {
        "id": "7c4f59a4"
      },
      "outputs": [],
      "source": [
        "# Write here\n"
      ]
    },
    {
      "cell_type": "markdown",
      "id": "fca03f5d",
      "metadata": {
        "id": "fca03f5d"
      },
      "source": [
        "## Vertically Stacking of Numpy Arrays: Stack 2 numpy arrays vertically i.e., 2 arrays having the same last dimension (number of columns in 2D arrays)"
      ]
    },
    {
      "cell_type": "code",
      "execution_count": null,
      "id": "74935970",
      "metadata": {
        "id": "74935970"
      },
      "outputs": [],
      "source": [
        "# Write here\n"
      ]
    },
    {
      "cell_type": "markdown",
      "id": "4723db88",
      "metadata": {
        "id": "4723db88"
      },
      "source": [
        "## Custom Sequence Generation: Generate a sequence of numbers in the form of a numpy array from 0 to 100 with gaps of 2 numbers, for example: 0, 2, 4 ....\n",
        "\n"
      ]
    },
    {
      "cell_type": "code",
      "execution_count": null,
      "id": "6802a93d",
      "metadata": {
        "id": "6802a93d"
      },
      "outputs": [],
      "source": [
        "# Write here\n",
        "\n"
      ]
    },
    {
      "cell_type": "code",
      "execution_count": null,
      "id": "b232d483",
      "metadata": {
        "id": "b232d483"
      },
      "outputs": [],
      "source": [
        "# alternative solution\n"
      ]
    },
    {
      "cell_type": "markdown",
      "id": "61e06077",
      "metadata": {
        "id": "61e06077"
      },
      "source": [
        "## Generation of given count of equally spaced numbers within a specified range: Output a sequence of equally gapped 5 numbers in the range 0 to 100 (both inclusive)"
      ]
    },
    {
      "cell_type": "code",
      "execution_count": null,
      "id": "8a680f62",
      "metadata": {
        "id": "8a680f62"
      },
      "outputs": [],
      "source": [
        "# Write here\n",
        "\n"
      ]
    },
    {
      "cell_type": "markdown",
      "id": "60593e70",
      "metadata": {
        "id": "60593e70"
      },
      "source": [
        "## Array Generation of random integers within a specified range: Output a 5-by-5 array of random integers between 0 (inclusive) and 10 (exclusive)\n",
        "\n"
      ]
    },
    {
      "cell_type": "code",
      "execution_count": null,
      "id": "dfa52e92",
      "metadata": {
        "id": "dfa52e92"
      },
      "outputs": [],
      "source": [
        "# Write here\n",
        "\n"
      ]
    },
    {
      "cell_type": "markdown",
      "id": "a8ebca92",
      "metadata": {
        "id": "a8ebca92"
      },
      "source": [
        "## Matrix Multiplication: Given 2 numpy arrays as matrices, output the result of multiplying the 2 matrices (as a numpy array)"
      ]
    },
    {
      "cell_type": "code",
      "execution_count": null,
      "id": "fc90d320",
      "metadata": {
        "id": "fc90d320"
      },
      "outputs": [],
      "source": [
        "# Write here\n"
      ]
    },
    {
      "cell_type": "markdown",
      "id": "d42c6bf0",
      "metadata": {
        "id": "d42c6bf0"
      },
      "source": [
        "## Matrix Transpose: Output the transpose of a matrix (as numpy array)\n",
        "\n"
      ]
    },
    {
      "cell_type": "code",
      "execution_count": null,
      "id": "de1fb0eb",
      "metadata": {
        "id": "de1fb0eb"
      },
      "outputs": [],
      "source": [
        "# Write here\n",
        "\n"
      ]
    },
    {
      "cell_type": "markdown",
      "id": "efb438f2",
      "metadata": {
        "id": "efb438f2"
      },
      "source": [
        "## Write a NumPy program to find the missing data in a given array.\n",
        "\n"
      ]
    },
    {
      "cell_type": "code",
      "execution_count": null,
      "id": "a1146078",
      "metadata": {
        "id": "a1146078"
      },
      "outputs": [],
      "source": [
        "# Write here\n"
      ]
    },
    {
      "cell_type": "markdown",
      "id": "020331fc",
      "metadata": {
        "id": "020331fc"
      },
      "source": [
        "## Write a NumPy program to find the indices of the maximum and minimum values along the given axis of an array.\n",
        "\n"
      ]
    },
    {
      "cell_type": "code",
      "execution_count": null,
      "id": "6a9cfb87",
      "metadata": {
        "id": "6a9cfb87"
      },
      "outputs": [],
      "source": [
        "# Write here\n"
      ]
    },
    {
      "cell_type": "markdown",
      "id": "7db6ac7b",
      "metadata": {
        "id": "7db6ac7b"
      },
      "source": [
        "## Write a NumPy program to create an empty and a full array.\n"
      ]
    },
    {
      "cell_type": "code",
      "execution_count": null,
      "id": "2536e8b8",
      "metadata": {
        "id": "2536e8b8"
      },
      "outputs": [],
      "source": [
        "# Write here\n"
      ]
    },
    {
      "cell_type": "markdown",
      "id": "bfa898a2",
      "metadata": {
        "id": "bfa898a2"
      },
      "source": [
        "## Write a NumPy program to convert the values of Centigrade degrees into Fahrenheit degrees and vice versa. Values are stored into a NumPy array.\n",
        "\n",
        "- Sample Array:\n",
        "- Values in Fahrenheit degrees [0, 12, 45.21, 34, 99.91]\n",
        "- Values in Centigrade degrees [-17.78, -11.11, 7.34, 1.11, 37.73, 0. ]"
      ]
    },
    {
      "cell_type": "code",
      "execution_count": null,
      "id": "c22e29ee",
      "metadata": {
        "id": "c22e29ee"
      },
      "outputs": [],
      "source": [
        "# Write here\n",
        "\n"
      ]
    },
    {
      "cell_type": "code",
      "source": [],
      "metadata": {
        "id": "u4BY67tA7g8L"
      },
      "id": "u4BY67tA7g8L",
      "execution_count": null,
      "outputs": []
    },
    {
      "cell_type": "markdown",
      "source": [
        "## Using the Numpy array and PIL image library write a code that creates the national flag of Italy using array operations and save it as png."
      ],
      "metadata": {
        "id": "RsRuHG9k7h-b"
      },
      "id": "RsRuHG9k7h-b"
    },
    {
      "cell_type": "code",
      "source": [
        "# Write here\n"
      ],
      "metadata": {
        "id": "UAAUyCW076vf"
      },
      "id": "UAAUyCW076vf",
      "execution_count": null,
      "outputs": []
    }
  ],
  "metadata": {
    "kernelspec": {
      "display_name": "Python 3 (ipykernel)",
      "language": "python",
      "name": "python3"
    },
    "language_info": {
      "codemirror_mode": {
        "name": "ipython",
        "version": 3
      },
      "file_extension": ".py",
      "mimetype": "text/x-python",
      "name": "python",
      "nbconvert_exporter": "python",
      "pygments_lexer": "ipython3",
      "version": "3.9.7"
    },
    "colab": {
      "provenance": []
    }
  },
  "nbformat": 4,
  "nbformat_minor": 5
}