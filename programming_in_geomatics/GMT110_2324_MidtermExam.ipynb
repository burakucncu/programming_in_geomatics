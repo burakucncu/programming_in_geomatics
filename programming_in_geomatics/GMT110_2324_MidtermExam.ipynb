{
 "cells": [
  {
   "cell_type": "markdown",
   "id": "d3ff8724",
   "metadata": {},
   "source": [
    "## GMT110 PROGRAMMING IN GEOMATICS ENGINEERING \n",
    "## MIDTERM EXAM"
   ]
  },
  {
   "cell_type": "markdown",
   "id": "47638c1e",
   "metadata": {},
   "source": [
    "- In this midterm assignment you need to complete 4 tasks and 1 bonus task.\n",
    "- The tasks will require to use QGIS, Python, Jupyter Notebook or Google Colab IDE.\n",
    "- You will use some text files (.csv) that can be loaded directly to your environment from the WEB links provided. Downloading is not necessary.\n",
    "- You will also find some WEB links for some images. You have to download them to your computer in order to complete requested tasks. \n",
    "- Please use your own coding skills. Using all kind of WEB materials are free. Using help from your friends is not recommended. \n",
    "- Please submit this file including your answer before 11:45 am to the HADI.\n",
    "- If you are having difficulties when importing the necessary libraries to the Jupyter Notebook, you can use google colab.\n",
    "- Please try not to corrupt the originality of this file and please!!! upload it as .ipynb file. Any other files except .ipynb will not be accepted.\n",
    "- Along with the .ipynb file, you will also upload to the HADI one georefeerenced .tif image and one text file of the Ground Control Points (GCPs) you used during the Georeferencing task. \n",
    "\n",
    "Good Luck"
   ]
  },
  {
   "cell_type": "markdown",
   "id": "5f928ec4",
   "metadata": {},
   "source": [
    "Please write your Name and ID below."
   ]
  },
  {
   "cell_type": "code",
   "execution_count": 3,
   "id": "a5abf17d-350a-4677-994b-870376228c0b",
   "metadata": {},
   "outputs": [],
   "source": [
    "# Name:  \n",
    "# Surname:\n",
    "# ID:"
   ]
  },
  {
   "cell_type": "markdown",
   "id": "9bd31635-ad56-4d40-b3e3-9ee73c70697e",
   "metadata": {},
   "source": [
    "### Import the libraries that are necesary to run the tasks in the Midterm."
   ]
  },
  {
   "cell_type": "code",
   "execution_count": null,
   "id": "d8b47b10-49fc-44fc-8091-65fb3d239d27",
   "metadata": {},
   "outputs": [],
   "source": [
    "\n",
    "\n",
    "\n"
   ]
  },
  {
   "cell_type": "markdown",
   "id": "9d52a7f6-09e0-4274-a288-b4732766478d",
   "metadata": {},
   "source": [
    "### Task 1)\n",
    "Import the .json file proivded in the link below and create a dataframe called \"df1\".\n",
    "https://raw.githubusercontent.com/GeoTurkey/GMT_COURSES/main/IGSNetwork.json"
   ]
  },
  {
   "cell_type": "markdown",
   "id": "e50e324c-1621-4e22-b070-6378bf71888d",
   "metadata": {},
   "source": [
    "- a) Load the data"
   ]
  },
  {
   "cell_type": "code",
   "execution_count": 1,
   "id": "a2e4dace-b305-44a4-b2f6-7e276ad7a4ab",
   "metadata": {},
   "outputs": [],
   "source": []
  },
  {
   "cell_type": "markdown",
   "id": "a4810c93-9728-4ec5-a442-f43419789053",
   "metadata": {},
   "source": [
    "- b)Transpose index and columns so you can obtain the correct representation of the dataframe."
   ]
  },
  {
   "cell_type": "code",
   "execution_count": null,
   "id": "3df9e48c-bec5-4f92-878a-4565f922a7bf",
   "metadata": {},
   "outputs": [],
   "source": []
  },
  {
   "cell_type": "markdown",
   "id": "e4a924ec-a0db-4b72-a690-66465323831f",
   "metadata": {},
   "source": [
    "- c) Replace the NaN values in that column with a value: \"TEST123456\". (Hint: fillna(), To make it permanent remember to use \"inplace\")"
   ]
  },
  {
   "cell_type": "code",
   "execution_count": null,
   "id": "249590bc-c004-4b88-869b-1f9425accf16",
   "metadata": {},
   "outputs": [],
   "source": []
  },
  {
   "cell_type": "markdown",
   "id": "1d4ec17c-e053-48c3-8948-da435e4aae94",
   "metadata": {},
   "source": [
    "- d) Print the X,Y,Z coordinates of the site \"POTS00DEU\" using the .loc()."
   ]
  },
  {
   "cell_type": "code",
   "execution_count": null,
   "id": "1652182f-f615-4062-b7b1-be9a091f7acc",
   "metadata": {},
   "outputs": [],
   "source": []
  },
  {
   "cell_type": "markdown",
   "id": "c0b5df5c-37ac-4345-bdd3-6a0004caf7b4",
   "metadata": {},
   "source": [
    "- e) Import the \"EUREF_Stations.csv\" file and create a second dataframe \"df2\" by using the data from the link: https://raw.githubusercontent.com/GeoTurkey/GMT_COURSES/main/EUREF_Stations.csv"
   ]
  },
  {
   "cell_type": "code",
   "execution_count": null,
   "id": "76878ebf-406a-4f8e-9745-86cd3b0d7442",
   "metadata": {},
   "outputs": [],
   "source": []
  },
  {
   "cell_type": "markdown",
   "id": "2945e05c-c5be-4782-8f8e-467d5cd22422",
   "metadata": {},
   "source": [
    "- f) Group the second dataframe (df2) by \"Country\" and print the number of stations per each country."
   ]
  },
  {
   "cell_type": "code",
   "execution_count": null,
   "id": "9bd0acfb-5f60-43ed-906f-0adac7041c68",
   "metadata": {},
   "outputs": [],
   "source": []
  },
  {
   "cell_type": "markdown",
   "id": "bd105a78-2046-4959-8497-36a24737fea3",
   "metadata": {},
   "source": [
    "- g)  Group the second dataframe (df2) by \"OperationalCentre\" and print the sites managed by the \"BKG\" centre. BKG: The Federal Agency for Cartography and Geodesy in Germany."
   ]
  },
  {
   "cell_type": "code",
   "execution_count": null,
   "id": "bfa9d613-455c-4497-8907-06b67418baff",
   "metadata": {},
   "outputs": [],
   "source": []
  },
  {
   "cell_type": "markdown",
   "id": "f3449df9-939b-48c8-8d0d-31b092f4a4fd",
   "metadata": {},
   "source": [
    "- h) Find a solution to merge two dataframes (df1, df2) based on a common key."
   ]
  },
  {
   "cell_type": "code",
   "execution_count": null,
   "id": "c7e613eb-9289-4551-9181-e427280dd215",
   "metadata": {},
   "outputs": [],
   "source": []
  },
  {
   "cell_type": "markdown",
   "id": "761845e0-1fa7-44d8-bdd1-38f766889001",
   "metadata": {},
   "source": [
    "- i) Check the type of the all columns of the df1 (dtypes). Change the types of X,Y,Z, Latitude, Longitude and Height in the df1 from object to float. This is necessary to plot the coordinates on a map. Plot the coordinates (lat, long) in the first dataframe (df1) to the 2D plot (hint: scatter).\n",
    "   - In the plot give x label and y label names as \"latitude\", \"longitude\", title as \"coordinates\", use color as \"red\" and marker as \"*\"."
   ]
  },
  {
   "cell_type": "code",
   "execution_count": null,
   "id": "a61a525a-f2a9-47f3-b64e-f4dc1b453f2f",
   "metadata": {},
   "outputs": [],
   "source": []
  },
  {
   "cell_type": "raw",
   "id": "777614dd-5a18-446f-ac44-234877fb6667",
   "metadata": {},
   "source": []
  },
  {
   "cell_type": "markdown",
   "id": "5ffc808f",
   "metadata": {},
   "source": [
    "## TASK2"
   ]
  },
  {
   "cell_type": "markdown",
   "id": "c68b38c8-47fa-4393-8d75-a6e88dddf973",
   "metadata": {},
   "source": [
    "- a) Create a 2D array called \"data\" (dimensions: 12,4) of random integer numbers between 2 and 200.\n"
   ]
  },
  {
   "cell_type": "code",
   "execution_count": null,
   "id": "29c35c35-e7f5-4492-a5f9-5a9076a5f777",
   "metadata": {},
   "outputs": [],
   "source": []
  },
  {
   "cell_type": "markdown",
   "id": "9c9f9467-856f-4ae3-ae8f-29ec7a277d05",
   "metadata": {},
   "source": [
    "- b) Create a date range in pandas starting from \"2021-01-31\" (year-month-day) and ending on \"2021-12-31\". Give a name \"index_values\" to this range."
   ]
  },
  {
   "cell_type": "code",
   "execution_count": null,
   "id": "48033baf-0105-4e0a-9900-e5b1bfb94f1a",
   "metadata": {},
   "outputs": [],
   "source": []
  },
  {
   "cell_type": "markdown",
   "id": "c735f967-3643-4362-b42f-a3bcd26010f5",
   "metadata": {},
   "source": [
    "- c) Create a DataFrame (df) from a numpy array created in **a)** and specify the index column as *date* created in **b)**. Give column names as: A,B,C,D."
   ]
  },
  {
   "cell_type": "code",
   "execution_count": null,
   "id": "c1d14d48-97a1-497d-8f46-8e8124e00e4e",
   "metadata": {},
   "outputs": [],
   "source": []
  },
  {
   "cell_type": "markdown",
   "id": "a62045c9-4462-4412-81df-269d6c34468e",
   "metadata": {},
   "source": [
    "- d) Plot each column as a subplot on the same figure"
   ]
  },
  {
   "cell_type": "code",
   "execution_count": null,
   "id": "00727217-6652-4387-a5b3-94ceb8b44c8c",
   "metadata": {},
   "outputs": [],
   "source": []
  },
  {
   "cell_type": "markdown",
   "id": "3e778420-bbba-4dbc-891a-94bd0b670a40",
   "metadata": {},
   "source": [
    "## TASK3"
   ]
  },
  {
   "cell_type": "markdown",
   "id": "ed0e9c63-d80f-4065-9d6d-1c8dd2aeaba9",
   "metadata": {},
   "source": [
    "- https://github.com/GeoTurkey/GMT_COURSES/raw/main/n38_e031_1arc_v3.tif\n",
    "- https://github.com/GeoTurkey/GMT_COURSES/raw/main/n38_e032_1arc_v3.tif\n",
    "- https://github.com/GeoTurkey/GMT_COURSES/raw/main/n39_e031_1arc_v3.tif\n",
    "- https://github.com/GeoTurkey/GMT_COURSES/raw/main/n39_e032_1arc_v3.tif\n",
    "\n",
    "There are four Digital Elevation Model (DEM) images that each pixel is showing the geoid height in meters. The DEM files' links are given above. Download each image and open all of them in QGIS. Merge all the images in QGIS and create one new .tif image file from them."
   ]
  },
  {
   "cell_type": "markdown",
   "id": "7d9c11d7-5760-4a69-b505-e8377585bda9",
   "metadata": {},
   "source": [
    "- a) Load this new merged .tif file into your python environment (jupyter, colab, visual, etc..) and plot it."
   ]
  },
  {
   "cell_type": "code",
   "execution_count": null,
   "id": "f136c737-75a4-4771-85e7-aa9c4b31b5b8",
   "metadata": {},
   "outputs": [],
   "source": []
  },
  {
   "cell_type": "markdown",
   "id": "3d4f09bb-b926-4fad-bea8-bda761b1400b",
   "metadata": {},
   "source": [
    "- b) Print the shape and the number of bands of the image."
   ]
  },
  {
   "cell_type": "code",
   "execution_count": null,
   "id": "39b94e2f-5afb-434a-be3c-dfbee32e3ea7",
   "metadata": {},
   "outputs": [],
   "source": []
  },
  {
   "cell_type": "markdown",
   "id": "f617f5ea-8ffb-4489-9b52-76110e099d67",
   "metadata": {},
   "source": [
    "- c) Print the mean, maximum and minimum geoid heights of the image\n"
   ]
  },
  {
   "cell_type": "code",
   "execution_count": null,
   "id": "137101a1-8456-4f9a-b88f-67c41cd8607f",
   "metadata": {},
   "outputs": [],
   "source": []
  },
  {
   "cell_type": "markdown",
   "id": "2341d510-1d05-41d7-b934-52867015fe4b",
   "metadata": {},
   "source": [
    "- d) Plot the areas where the geoid heigths are above 1500 meters and save it as a new map (above_1500.tif)."
   ]
  },
  {
   "cell_type": "code",
   "execution_count": null,
   "id": "b1afda73-0aa6-42ce-af1d-e61b24e88545",
   "metadata": {},
   "outputs": [],
   "source": []
  },
  {
   "cell_type": "markdown",
   "id": "3d37903b-766c-4089-8e42-280c22cca731",
   "metadata": {},
   "source": [
    "## TASK4"
   ]
  },
  {
   "cell_type": "markdown",
   "id": "482ca8bf-17fb-4643-8be6-fdb55d5282d9",
   "metadata": {},
   "source": [
    "- In this task you are going to geo-reference the .jpeg image of the scanned map which is assigned to you in the list given [here](https://github.com/GeoTurkey/GMT_COURSES/blob/main/maps_to_register.pdf).\n",
    "- You can find the maps you need in the folder named \"Maps_from_World\" in HADI. \n",
    "- Load the map into the qgis and georeference it by using the correct instructions.\n",
    "- For maps with fewer than 7 or 8 grid points, the polynomial 1 method can also be used in order to get a solution.\n",
    "- Save the georeferenced image as a tif image and save the ground control points (GCPs) to your computer.\n",
    "- Upload the georeferenced .tif image and GCPs points you used  to the HADI. "
   ]
  },
  {
   "cell_type": "code",
   "execution_count": null,
   "id": "a34a5b49-6746-4d9f-a3a9-ce1660635940",
   "metadata": {},
   "outputs": [],
   "source": []
  },
  {
   "cell_type": "markdown",
   "id": "078ee0a7",
   "metadata": {},
   "source": [
    "###  BONUS TASK\n",
    "- 3D geographic (geodetic) coordinates can be used to define a position on the surface of the Earth (point P in figure below). The latitude ($\\phi$) and longitude($\\lambda$) angles and the ellipsoidal height (h) represent the 3D gegraphic coordinate system. The ellipsoidal height (h) of a point is the vertical distance of the point above the ellipsoid. \n",
    "\n",
    "\n",
    "![](https://kartoweb.itc.nl/geometrics/Bitmaps/Coord%202.4c.gif) \n",
    "\n",
    "- An alternative method of defining a 3D position on the surface of the Earth is by means of Cartesian (geocentric) coordinates (X,Y,Z) as illustrated below.\n",
    "![](https://kartoweb.itc.nl/geometrics/Bitmaps/3D%20geocentric%20coordinates.gif)\n",
    "\n",
    "\n",
    "\n",
    "Geographic coordinates (latitude, longitude and height) can be converted into Cartesian coordinates using the following equation:\n",
    "\n",
    "![](https://wikimedia.org/api/rest_v1/media/math/render/svg/3f4c631b7cecf450ead22e4a77a1301a42f1dab8)\n",
    "\n",
    "where the prime vertical radius of curvature N($\\phi$) is the distance from the surface to the Z-axis along the ellipsoid normal and can be computed as:\n",
    "\n",
    "![](https://wikimedia.org/api/rest_v1/media/math/render/svg/e7f79cb63934a4e1002224e7084370e22f3e97f9)\n",
    "\n",
    "where a = 6378137.0  and b = 6356752.3 are the equatorial radius (semi-major axis) and the polar radius (semi-minor axis), respectively.\n",
    "\n",
    "![](https://wikimedia.org/api/rest_v1/media/math/render/svg/a74130b944efd8b9342c2e12bb8823dd53013086)\n",
    "\n",
    "is the square of the first numerical eccentricity of the ellipsoid.\n",
    "\n",
    "**Important**: \n",
    "- **All angles are in *radians***.\n",
    "- **Distances are in meters**.\n"
   ]
  },
  {
   "cell_type": "markdown",
   "id": "634ef434",
   "metadata": {},
   "source": [
    "#### a) Based on the information and formulas provided above write a function converting Geodetic coordinates to Cartesian coordinates.\n",
    "\n",
    "#### b) From [this](https://www.maps.ie/coordinates.html) site drag the marker and find the latitude, longitude and gps (ellipsoidal) height of your approximately home location. Then compute and print the Cartesian coordinates of your home location by using the geographic coordinates and the function you created.  "
   ]
  },
  {
   "cell_type": "code",
   "execution_count": null,
   "id": "c137e25e",
   "metadata": {},
   "outputs": [],
   "source": [
    "# a) Write the conversion function here\n",
    "\n",
    "\n"
   ]
  },
  {
   "cell_type": "code",
   "execution_count": null,
   "id": "6cea6412",
   "metadata": {},
   "outputs": [],
   "source": [
    "# b) compute and print the Cartesian coordinates of your home location\n",
    "\n",
    "\n"
   ]
  }
 ],
 "metadata": {
  "kernelspec": {
   "display_name": "Python 3 (ipykernel)",
   "language": "python",
   "name": "python3"
  },
  "language_info": {
   "codemirror_mode": {
    "name": "ipython",
    "version": 3
   },
   "file_extension": ".py",
   "mimetype": "text/x-python",
   "name": "python",
   "nbconvert_exporter": "python",
   "pygments_lexer": "ipython3",
   "version": "3.12.1"
  }
 },
 "nbformat": 4,
 "nbformat_minor": 5
}
